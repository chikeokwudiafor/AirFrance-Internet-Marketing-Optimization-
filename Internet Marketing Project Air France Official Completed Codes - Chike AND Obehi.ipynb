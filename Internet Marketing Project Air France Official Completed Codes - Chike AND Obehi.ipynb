{
 "cells": [
  {
   "cell_type": "code",
   "execution_count": 1,
   "metadata": {},
   "outputs": [],
   "source": [
    "from scipy import stats\n",
    "import pandas as pd\n",
    "import numpy as np\n",
    "import seaborn as sns\n",
    "import matplotlib.pyplot as plt\n",
    "%matplotlib inline\n",
    "import statsmodels.api as sm"
   ]
  },
  {
   "cell_type": "code",
   "execution_count": 2,
   "metadata": {},
   "outputs": [],
   "source": [
    "dcdata = pd.ExcelFile('DoubleClick.xls')\n",
    "dcsheet = pd.read_excel(dcdata, 'DoubleClick')"
   ]
  },
  {
   "cell_type": "code",
   "execution_count": 3,
   "metadata": {},
   "outputs": [
    {
     "data": {
      "text/html": [
       "<div>\n",
       "<style scoped>\n",
       "    .dataframe tbody tr th:only-of-type {\n",
       "        vertical-align: middle;\n",
       "    }\n",
       "\n",
       "    .dataframe tbody tr th {\n",
       "        vertical-align: top;\n",
       "    }\n",
       "\n",
       "    .dataframe thead th {\n",
       "        text-align: right;\n",
       "    }\n",
       "</style>\n",
       "<table border=\"1\" class=\"dataframe\">\n",
       "  <thead>\n",
       "    <tr style=\"text-align: right;\">\n",
       "      <th></th>\n",
       "      <th>Publisher ID</th>\n",
       "      <th>Publisher Name</th>\n",
       "      <th>Keyword ID</th>\n",
       "      <th>Keyword</th>\n",
       "      <th>Match Type</th>\n",
       "      <th>Campaign</th>\n",
       "      <th>Keyword Group</th>\n",
       "      <th>Category</th>\n",
       "      <th>Bid Strategy</th>\n",
       "      <th>Keyword Type</th>\n",
       "      <th>...</th>\n",
       "      <th>Click Charges</th>\n",
       "      <th>Avg. Cost per Click</th>\n",
       "      <th>Impressions</th>\n",
       "      <th>Engine Click Thru %</th>\n",
       "      <th>Avg. Pos.</th>\n",
       "      <th>Trans. Conv. %</th>\n",
       "      <th>Total Cost/ Trans.</th>\n",
       "      <th>Amount</th>\n",
       "      <th>Total Cost</th>\n",
       "      <th>Total Volume of Bookings</th>\n",
       "    </tr>\n",
       "  </thead>\n",
       "  <tbody>\n",
       "    <tr>\n",
       "      <td>0</td>\n",
       "      <td>K2615</td>\n",
       "      <td>Yahoo - US</td>\n",
       "      <td>43000000039657988</td>\n",
       "      <td>fly to florence</td>\n",
       "      <td>Advanced</td>\n",
       "      <td>Western Europe Destinations</td>\n",
       "      <td>Florence</td>\n",
       "      <td>uncategorized</td>\n",
       "      <td>NaN</td>\n",
       "      <td>Unassigned</td>\n",
       "      <td>...</td>\n",
       "      <td>2.3125</td>\n",
       "      <td>2.312500</td>\n",
       "      <td>11</td>\n",
       "      <td>9.090909</td>\n",
       "      <td>1.272727</td>\n",
       "      <td>900.000000</td>\n",
       "      <td>0.256944</td>\n",
       "      <td>8777.95</td>\n",
       "      <td>2.3125</td>\n",
       "      <td>9</td>\n",
       "    </tr>\n",
       "    <tr>\n",
       "      <td>1</td>\n",
       "      <td>K2615</td>\n",
       "      <td>Yahoo - US</td>\n",
       "      <td>43000000039651113</td>\n",
       "      <td>low international airfare</td>\n",
       "      <td>Advanced</td>\n",
       "      <td>Geo Targeted DC</td>\n",
       "      <td>Low International DC</td>\n",
       "      <td>uncategorized</td>\n",
       "      <td>NaN</td>\n",
       "      <td>Unassigned</td>\n",
       "      <td>...</td>\n",
       "      <td>0.6250</td>\n",
       "      <td>0.625000</td>\n",
       "      <td>6</td>\n",
       "      <td>16.666667</td>\n",
       "      <td>1.000000</td>\n",
       "      <td>100.000000</td>\n",
       "      <td>0.625000</td>\n",
       "      <td>1574.20</td>\n",
       "      <td>0.6250</td>\n",
       "      <td>1</td>\n",
       "    </tr>\n",
       "    <tr>\n",
       "      <td>2</td>\n",
       "      <td>K2003</td>\n",
       "      <td>MSN - Global</td>\n",
       "      <td>43000000019452431</td>\n",
       "      <td>air discount france ticket</td>\n",
       "      <td>Broad</td>\n",
       "      <td>Air France Brand &amp; French Destinations</td>\n",
       "      <td>France</td>\n",
       "      <td>uncategorized</td>\n",
       "      <td>Position 2-5 Bid Strategy</td>\n",
       "      <td>Unassigned</td>\n",
       "      <td>...</td>\n",
       "      <td>0.3875</td>\n",
       "      <td>0.387500</td>\n",
       "      <td>9</td>\n",
       "      <td>11.111111</td>\n",
       "      <td>1.111111</td>\n",
       "      <td>100.000000</td>\n",
       "      <td>0.387500</td>\n",
       "      <td>390.15</td>\n",
       "      <td>0.3875</td>\n",
       "      <td>1</td>\n",
       "    </tr>\n",
       "    <tr>\n",
       "      <td>3</td>\n",
       "      <td>K1175</td>\n",
       "      <td>Google - Global</td>\n",
       "      <td>43000000005663331</td>\n",
       "      <td>[airfrance]</td>\n",
       "      <td>Exact</td>\n",
       "      <td>Air France Global Campaign</td>\n",
       "      <td>Air France</td>\n",
       "      <td>airfrance</td>\n",
       "      <td>Position 1- 3</td>\n",
       "      <td>Unassigned</td>\n",
       "      <td>...</td>\n",
       "      <td>2.3125</td>\n",
       "      <td>0.039195</td>\n",
       "      <td>401</td>\n",
       "      <td>14.713217</td>\n",
       "      <td>2.000000</td>\n",
       "      <td>3.389831</td>\n",
       "      <td>1.156250</td>\n",
       "      <td>1665.15</td>\n",
       "      <td>2.3125</td>\n",
       "      <td>2</td>\n",
       "    </tr>\n",
       "    <tr>\n",
       "      <td>4</td>\n",
       "      <td>K1123</td>\n",
       "      <td>Overture - Global</td>\n",
       "      <td>43000000005421354</td>\n",
       "      <td>air france online booking</td>\n",
       "      <td>Standard</td>\n",
       "      <td>Unassigned</td>\n",
       "      <td>Unassigned</td>\n",
       "      <td>airfrance</td>\n",
       "      <td>Position 1-2 Target</td>\n",
       "      <td>Unassigned</td>\n",
       "      <td>...</td>\n",
       "      <td>2.2000</td>\n",
       "      <td>0.275000</td>\n",
       "      <td>318</td>\n",
       "      <td>2.515723</td>\n",
       "      <td>2.975786</td>\n",
       "      <td>12.500000</td>\n",
       "      <td>2.200000</td>\n",
       "      <td>935.00</td>\n",
       "      <td>2.2000</td>\n",
       "      <td>1</td>\n",
       "    </tr>\n",
       "  </tbody>\n",
       "</table>\n",
       "<p>5 rows × 23 columns</p>\n",
       "</div>"
      ],
      "text/plain": [
       "  Publisher ID     Publisher Name         Keyword ID  \\\n",
       "0        K2615         Yahoo - US  43000000039657988   \n",
       "1        K2615         Yahoo - US  43000000039651113   \n",
       "2        K2003       MSN - Global  43000000019452431   \n",
       "3        K1175    Google - Global  43000000005663331   \n",
       "4        K1123  Overture - Global  43000000005421354   \n",
       "\n",
       "                      Keyword Match Type  \\\n",
       "0             fly to florence   Advanced   \n",
       "1   low international airfare   Advanced   \n",
       "2  air discount france ticket      Broad   \n",
       "3                 [airfrance]      Exact   \n",
       "4   air france online booking   Standard   \n",
       "\n",
       "                                 Campaign         Keyword Group  \\\n",
       "0             Western Europe Destinations              Florence   \n",
       "1                         Geo Targeted DC  Low International DC   \n",
       "2  Air France Brand & French Destinations                France   \n",
       "3              Air France Global Campaign            Air France   \n",
       "4                              Unassigned            Unassigned   \n",
       "\n",
       "        Category               Bid Strategy Keyword Type  ... Click Charges  \\\n",
       "0  uncategorized                        NaN   Unassigned  ...        2.3125   \n",
       "1  uncategorized                        NaN   Unassigned  ...        0.6250   \n",
       "2  uncategorized  Position 2-5 Bid Strategy   Unassigned  ...        0.3875   \n",
       "3      airfrance              Position 1- 3   Unassigned  ...        2.3125   \n",
       "4      airfrance        Position 1-2 Target   Unassigned  ...        2.2000   \n",
       "\n",
       "   Avg. Cost per Click  Impressions  Engine Click Thru %  Avg. Pos.  \\\n",
       "0             2.312500           11             9.090909   1.272727   \n",
       "1             0.625000            6            16.666667   1.000000   \n",
       "2             0.387500            9            11.111111   1.111111   \n",
       "3             0.039195          401            14.713217   2.000000   \n",
       "4             0.275000          318             2.515723   2.975786   \n",
       "\n",
       "   Trans. Conv. %  Total Cost/ Trans.   Amount  Total Cost  \\\n",
       "0      900.000000            0.256944  8777.95      2.3125   \n",
       "1      100.000000            0.625000  1574.20      0.6250   \n",
       "2      100.000000            0.387500   390.15      0.3875   \n",
       "3        3.389831            1.156250  1665.15      2.3125   \n",
       "4       12.500000            2.200000   935.00      2.2000   \n",
       "\n",
       "   Total Volume of Bookings  \n",
       "0                         9  \n",
       "1                         1  \n",
       "2                         1  \n",
       "3                         2  \n",
       "4                         1  \n",
       "\n",
       "[5 rows x 23 columns]"
      ]
     },
     "execution_count": 3,
     "metadata": {},
     "output_type": "execute_result"
    }
   ],
   "source": [
    "dcsheet.head()"
   ]
  },
  {
   "cell_type": "code",
   "execution_count": 4,
   "metadata": {},
   "outputs": [
    {
     "name": "stdout",
     "output_type": "stream",
     "text": [
      "<class 'pandas.core.frame.DataFrame'>\n",
      "RangeIndex: 4510 entries, 0 to 4509\n",
      "Data columns (total 23 columns):\n",
      "Publisher ID                4510 non-null object\n",
      "Publisher Name              4510 non-null object\n",
      "Keyword ID                  4510 non-null int64\n",
      "Keyword                     4510 non-null object\n",
      "Match Type                  4462 non-null object\n",
      "Campaign                    4510 non-null object\n",
      "Keyword Group               4510 non-null object\n",
      "Category                    4510 non-null object\n",
      "Bid Strategy                3286 non-null object\n",
      "Keyword Type                4510 non-null object\n",
      "Status                      4510 non-null object\n",
      "Search Engine Bid           4510 non-null float64\n",
      "Clicks                      4510 non-null int64\n",
      "Click Charges               4510 non-null float64\n",
      "Avg. Cost per Click         4510 non-null float64\n",
      "Impressions                 4510 non-null int64\n",
      "Engine Click Thru %         4510 non-null float64\n",
      "Avg. Pos.                   4510 non-null float64\n",
      "Trans. Conv. %              4510 non-null float64\n",
      "Total Cost/ Trans.          4510 non-null float64\n",
      "Amount                      4510 non-null float64\n",
      "Total Cost                  4510 non-null float64\n",
      "Total Volume of Bookings    4510 non-null int64\n",
      "dtypes: float64(9), int64(4), object(10)\n",
      "memory usage: 810.5+ KB\n"
     ]
    }
   ],
   "source": [
    "dcsheet.info()"
   ]
  },
  {
   "cell_type": "markdown",
   "metadata": {},
   "source": [
    "### a) Net Revenue (Amount (total revenue) – Total Cost))"
   ]
  },
  {
   "cell_type": "code",
   "execution_count": 5,
   "metadata": {},
   "outputs": [],
   "source": [
    "dcsheet['Net Revenue'] = (dcsheet['Amount']-dcsheet['Total Cost'])"
   ]
  },
  {
   "cell_type": "markdown",
   "metadata": {},
   "source": [
    "### b) Return on Ad dollar Spent (ROA) = (Net Revenue / Total Cost) (Note: Set this variable aspercentage; if Total Cost is 0, then set ROA as 0 for that observation.)"
   ]
  },
  {
   "cell_type": "code",
   "execution_count": 50,
   "metadata": {},
   "outputs": [],
   "source": [
    "dcsheet['ROA'] = ((dcsheet['Net Revenue']/dcsheet['Total Cost'])*100)"
   ]
  },
  {
   "cell_type": "code",
   "execution_count": 7,
   "metadata": {},
   "outputs": [],
   "source": [
    "dcsheet.loc[dcsheet['Total Cost'] == 0, 'ROA'] = 0 "
   ]
  },
  {
   "cell_type": "code",
   "execution_count": 8,
   "metadata": {},
   "outputs": [
    {
     "data": {
      "text/plain": [
       "Publisher ID                False\n",
       "Publisher Name              False\n",
       "Keyword ID                  False\n",
       "Keyword                     False\n",
       "Match Type                  False\n",
       "Campaign                    False\n",
       "Keyword Group               False\n",
       "Category                    False\n",
       "Bid Strategy                False\n",
       "Keyword Type                False\n",
       "Status                      False\n",
       "Search Engine Bid           False\n",
       "Clicks                      False\n",
       "Click Charges               False\n",
       "Avg. Cost per Click         False\n",
       "Impressions                 False\n",
       "Engine Click Thru %         False\n",
       "Avg. Pos.                   False\n",
       "Trans. Conv. %              False\n",
       "Total Cost/ Trans.          False\n",
       "Amount                      False\n",
       "Total Cost                  False\n",
       "Total Volume of Bookings    False\n",
       "Net Revenue                 False\n",
       "ROA                         False\n",
       "dtype: bool"
      ]
     },
     "execution_count": 8,
     "metadata": {},
     "output_type": "execute_result"
    }
   ],
   "source": [
    "(dcsheet == 0).all()"
   ]
  },
  {
   "cell_type": "markdown",
   "metadata": {},
   "source": [
    "#### c. Average Revenue per Booking (Amount /Total Volume of Bookings) (Note: if Total Volume of Bookings is 0, then set null value for that observation)"
   ]
  },
  {
   "cell_type": "code",
   "execution_count": 9,
   "metadata": {},
   "outputs": [],
   "source": [
    "dcsheet['Average Revenue per Booking'] = (dcsheet['Amount']/dcsheet['Total Volume of Bookings'])"
   ]
  },
  {
   "cell_type": "code",
   "execution_count": 10,
   "metadata": {},
   "outputs": [
    {
     "data": {
      "text/plain": [
       "<bound method Series.isnull of 368    NaN\n",
       "369    NaN\n",
       "370    NaN\n",
       "371    NaN\n",
       "372    NaN\n",
       "        ..\n",
       "4505   NaN\n",
       "4506   NaN\n",
       "4507   NaN\n",
       "4508   NaN\n",
       "4509   NaN\n",
       "Name: Average Revenue per Booking, Length: 4142, dtype: float64>"
      ]
     },
     "execution_count": 10,
     "metadata": {},
     "output_type": "execute_result"
    }
   ],
   "source": [
    "dcsheet.loc[dcsheet['Total Volume of Bookings'] == 0, 'Average Revenue per Booking'].isnull"
   ]
  },
  {
   "cell_type": "markdown",
   "metadata": {},
   "source": [
    "### d. Probability of Booking (Engine Click Thru % (CTR) * Trans. Conv. % (TCR) / 10000) "
   ]
  },
  {
   "cell_type": "code",
   "execution_count": 11,
   "metadata": {},
   "outputs": [],
   "source": [
    "dcsheet['Probability of Booking'] = (dcsheet['Engine Click Thru %']*dcsheet['Trans. Conv. %'])/ 10000"
   ]
  },
  {
   "cell_type": "code",
   "execution_count": 51,
   "metadata": {},
   "outputs": [
    {
     "data": {
      "text/html": [
       "<div>\n",
       "<style scoped>\n",
       "    .dataframe tbody tr th:only-of-type {\n",
       "        vertical-align: middle;\n",
       "    }\n",
       "\n",
       "    .dataframe tbody tr th {\n",
       "        vertical-align: top;\n",
       "    }\n",
       "\n",
       "    .dataframe thead th {\n",
       "        text-align: right;\n",
       "    }\n",
       "</style>\n",
       "<table border=\"1\" class=\"dataframe\">\n",
       "  <thead>\n",
       "    <tr style=\"text-align: right;\">\n",
       "      <th></th>\n",
       "      <th>Probability of Booking</th>\n",
       "      <th>Average Revenue per Booking</th>\n",
       "      <th>ROA</th>\n",
       "      <th>Net Revenue</th>\n",
       "    </tr>\n",
       "  </thead>\n",
       "  <tbody>\n",
       "    <tr>\n",
       "      <td>0</td>\n",
       "      <td>0.818182</td>\n",
       "      <td>975.327778</td>\n",
       "      <td>379487.027027</td>\n",
       "      <td>8775.6375</td>\n",
       "    </tr>\n",
       "    <tr>\n",
       "      <td>1</td>\n",
       "      <td>0.166667</td>\n",
       "      <td>1574.200000</td>\n",
       "      <td>251772.000000</td>\n",
       "      <td>1573.5750</td>\n",
       "    </tr>\n",
       "    <tr>\n",
       "      <td>2</td>\n",
       "      <td>0.111111</td>\n",
       "      <td>390.150000</td>\n",
       "      <td>100583.870968</td>\n",
       "      <td>389.7625</td>\n",
       "    </tr>\n",
       "    <tr>\n",
       "      <td>3</td>\n",
       "      <td>0.004988</td>\n",
       "      <td>832.575000</td>\n",
       "      <td>71906.491546</td>\n",
       "      <td>1662.8375</td>\n",
       "    </tr>\n",
       "    <tr>\n",
       "      <td>4</td>\n",
       "      <td>0.003145</td>\n",
       "      <td>935.000000</td>\n",
       "      <td>42400.000000</td>\n",
       "      <td>932.8000</td>\n",
       "    </tr>\n",
       "  </tbody>\n",
       "</table>\n",
       "</div>"
      ],
      "text/plain": [
       "   Probability of Booking  Average Revenue per Booking            ROA  \\\n",
       "0                0.818182                   975.327778  379487.027027   \n",
       "1                0.166667                  1574.200000  251772.000000   \n",
       "2                0.111111                   390.150000  100583.870968   \n",
       "3                0.004988                   832.575000   71906.491546   \n",
       "4                0.003145                   935.000000   42400.000000   \n",
       "\n",
       "   Net Revenue  \n",
       "0    8775.6375  \n",
       "1    1573.5750  \n",
       "2     389.7625  \n",
       "3    1662.8375  \n",
       "4     932.8000  "
      ]
     },
     "execution_count": 51,
     "metadata": {},
     "output_type": "execute_result"
    }
   ],
   "source": [
    "dcsheet[['Probability of Booking','Average Revenue per Booking','ROA','Net Revenue']].head()"
   ]
  },
  {
   "cell_type": "markdown",
   "metadata": {},
   "source": [
    "### Please provide descriptive statistics (Count, Max, Min, Mean, and Std.) for variables (CTR, TCR, Net Revenue, Avg. Cost per Click, ROA, Average Revenue per Booking, Probability of Booking). Please report a summary statistics table and provide short descriptions of your observations and thoughts.\n",
    "\n",
    "* Observations and thoughts provided in the Report (Word Doc)\n"
   ]
  },
  {
   "cell_type": "code",
   "execution_count": 13,
   "metadata": {},
   "outputs": [
    {
     "data": {
      "text/html": [
       "<div>\n",
       "<style scoped>\n",
       "    .dataframe tbody tr th:only-of-type {\n",
       "        vertical-align: middle;\n",
       "    }\n",
       "\n",
       "    .dataframe tbody tr th {\n",
       "        vertical-align: top;\n",
       "    }\n",
       "\n",
       "    .dataframe thead th {\n",
       "        text-align: right;\n",
       "    }\n",
       "</style>\n",
       "<table border=\"1\" class=\"dataframe\">\n",
       "  <thead>\n",
       "    <tr style=\"text-align: right;\">\n",
       "      <th></th>\n",
       "      <th>Engine Click Thru %</th>\n",
       "      <th>Trans. Conv. %</th>\n",
       "      <th>Net Revenue</th>\n",
       "      <th>Avg. Cost per Click</th>\n",
       "      <th>ROA</th>\n",
       "      <th>Average Revenue per Booking</th>\n",
       "      <th>Probability of Booking</th>\n",
       "    </tr>\n",
       "  </thead>\n",
       "  <tbody>\n",
       "    <tr>\n",
       "      <td>count</td>\n",
       "      <td>4510.000000</td>\n",
       "      <td>4510.000000</td>\n",
       "      <td>4510.000000</td>\n",
       "      <td>4510.000000</td>\n",
       "      <td>4510.000000</td>\n",
       "      <td>368.000000</td>\n",
       "      <td>4510.000000</td>\n",
       "    </tr>\n",
       "    <tr>\n",
       "      <td>mean</td>\n",
       "      <td>11.141451</td>\n",
       "      <td>0.569255</td>\n",
       "      <td>866.207678</td>\n",
       "      <td>1.890240</td>\n",
       "      <td>341.413864</td>\n",
       "      <td>1024.259502</td>\n",
       "      <td>0.000681</td>\n",
       "    </tr>\n",
       "    <tr>\n",
       "      <td>std</td>\n",
       "      <td>20.234582</td>\n",
       "      <td>13.862485</td>\n",
       "      <td>14246.298903</td>\n",
       "      <td>1.322375</td>\n",
       "      <td>7277.915278</td>\n",
       "      <td>704.318741</td>\n",
       "      <td>0.015151</td>\n",
       "    </tr>\n",
       "    <tr>\n",
       "      <td>min</td>\n",
       "      <td>0.000000</td>\n",
       "      <td>0.000000</td>\n",
       "      <td>-8725.924987</td>\n",
       "      <td>0.000000</td>\n",
       "      <td>-100.000000</td>\n",
       "      <td>34.000000</td>\n",
       "      <td>0.000000</td>\n",
       "    </tr>\n",
       "    <tr>\n",
       "      <td>25%</td>\n",
       "      <td>1.531681</td>\n",
       "      <td>0.000000</td>\n",
       "      <td>-18.871875</td>\n",
       "      <td>0.825000</td>\n",
       "      <td>-100.000000</td>\n",
       "      <td>562.912500</td>\n",
       "      <td>0.000000</td>\n",
       "    </tr>\n",
       "    <tr>\n",
       "      <td>50%</td>\n",
       "      <td>4.105614</td>\n",
       "      <td>0.000000</td>\n",
       "      <td>-4.987500</td>\n",
       "      <td>1.650493</td>\n",
       "      <td>-100.000000</td>\n",
       "      <td>899.725000</td>\n",
       "      <td>0.000000</td>\n",
       "    </tr>\n",
       "    <tr>\n",
       "      <td>75%</td>\n",
       "      <td>10.916928</td>\n",
       "      <td>0.000000</td>\n",
       "      <td>-1.600000</td>\n",
       "      <td>2.662500</td>\n",
       "      <td>-100.000000</td>\n",
       "      <td>1277.975000</td>\n",
       "      <td>0.000000</td>\n",
       "    </tr>\n",
       "    <tr>\n",
       "      <td>max</td>\n",
       "      <td>200.000000</td>\n",
       "      <td>900.000000</td>\n",
       "      <td>549524.050273</td>\n",
       "      <td>10.000000</td>\n",
       "      <td>379487.027027</td>\n",
       "      <td>5877.750000</td>\n",
       "      <td>0.818182</td>\n",
       "    </tr>\n",
       "  </tbody>\n",
       "</table>\n",
       "</div>"
      ],
      "text/plain": [
       "       Engine Click Thru %  Trans. Conv. %    Net Revenue  \\\n",
       "count          4510.000000     4510.000000    4510.000000   \n",
       "mean             11.141451        0.569255     866.207678   \n",
       "std              20.234582       13.862485   14246.298903   \n",
       "min               0.000000        0.000000   -8725.924987   \n",
       "25%               1.531681        0.000000     -18.871875   \n",
       "50%               4.105614        0.000000      -4.987500   \n",
       "75%              10.916928        0.000000      -1.600000   \n",
       "max             200.000000      900.000000  549524.050273   \n",
       "\n",
       "       Avg. Cost per Click            ROA  Average Revenue per Booking  \\\n",
       "count          4510.000000    4510.000000                   368.000000   \n",
       "mean              1.890240     341.413864                  1024.259502   \n",
       "std               1.322375    7277.915278                   704.318741   \n",
       "min               0.000000    -100.000000                    34.000000   \n",
       "25%               0.825000    -100.000000                   562.912500   \n",
       "50%               1.650493    -100.000000                   899.725000   \n",
       "75%               2.662500    -100.000000                  1277.975000   \n",
       "max              10.000000  379487.027027                  5877.750000   \n",
       "\n",
       "       Probability of Booking  \n",
       "count             4510.000000  \n",
       "mean                 0.000681  \n",
       "std                  0.015151  \n",
       "min                  0.000000  \n",
       "25%                  0.000000  \n",
       "50%                  0.000000  \n",
       "75%                  0.000000  \n",
       "max                  0.818182  "
      ]
     },
     "execution_count": 13,
     "metadata": {},
     "output_type": "execute_result"
    }
   ],
   "source": [
    "dcsheet[['Engine Click Thru %','Trans. Conv. %','Net Revenue','Avg. Cost per Click','ROA','Average Revenue per Booking','Probability of Booking']].describe()"
   ]
  },
  {
   "cell_type": "markdown",
   "metadata": {},
   "source": [
    "### e) Histogram Insights that were Interesting.\n",
    "##### Report Includes Analysis"
   ]
  },
  {
   "cell_type": "code",
   "execution_count": 14,
   "metadata": {},
   "outputs": [
    {
     "data": {
      "text/plain": [
       "Text(0.5, 1.0, 'Publisher Names count')"
      ]
     },
     "execution_count": 14,
     "metadata": {},
     "output_type": "execute_result"
    },
    {
     "data": {
      "image/png": "[encoded data removed]",
      "text/plain": [
       "<Figure size 432x288 with 1 Axes>"
      ]
     },
     "metadata": {
      "needs_background": "light"
     },
     "output_type": "display_data"
    }
   ],
   "source": [
    "#plt.figure(figsize =(10,8))\n",
    "dcsheet[\"Publisher Name\"].value_counts().sort_index().plot.bar()\n",
    "plt.title('Publisher Names count')\n"
   ]
  },
  {
   "cell_type": "code",
   "execution_count": 15,
   "metadata": {},
   "outputs": [
    {
     "data": {
      "text/plain": [
       "Text(0.5, 1.0, 'Average Revenue Per Booking Frequency')"
      ]
     },
     "execution_count": 15,
     "metadata": {},
     "output_type": "execute_result"
    },
    {
     "data": {
      "image/png": "[encoded data removed]",
      "text/plain": [
       "<Figure size 432x288 with 1 Axes>"
      ]
     },
     "metadata": {
      "needs_background": "light"
     },
     "output_type": "display_data"
    }
   ],
   "source": [
    "dcsheet['Average Revenue per Booking'].plot.hist()\n",
    "plt.title('Average Revenue Per Booking Frequency')"
   ]
  },
  {
   "cell_type": "markdown",
   "metadata": {},
   "source": [
    "## 2)\n",
    "\n",
    "### Correlation between all variables"
   ]
  },
  {
   "cell_type": "code",
   "execution_count": 16,
   "metadata": {
    "scrolled": true
   },
   "outputs": [
    {
     "data": {
      "text/html": [
       "<div>\n",
       "<style scoped>\n",
       "    .dataframe tbody tr th:only-of-type {\n",
       "        vertical-align: middle;\n",
       "    }\n",
       "\n",
       "    .dataframe tbody tr th {\n",
       "        vertical-align: top;\n",
       "    }\n",
       "\n",
       "    .dataframe thead th {\n",
       "        text-align: right;\n",
       "    }\n",
       "</style>\n",
       "<table border=\"1\" class=\"dataframe\">\n",
       "  <thead>\n",
       "    <tr style=\"text-align: right;\">\n",
       "      <th></th>\n",
       "      <th>Total Cost</th>\n",
       "      <th>Search Engine Bid</th>\n",
       "      <th>Clicks</th>\n",
       "      <th>Click Charges</th>\n",
       "      <th>Avg. Cost per Click</th>\n",
       "      <th>Impressions</th>\n",
       "      <th>Engine Click Thru %</th>\n",
       "      <th>Avg. Pos.</th>\n",
       "      <th>Total Volume of Bookings</th>\n",
       "      <th>Trans. Conv. %</th>\n",
       "      <th>Total Cost/ Trans.</th>\n",
       "      <th>Amount</th>\n",
       "      <th>Net Revenue</th>\n",
       "      <th>ROA</th>\n",
       "      <th>Average Revenue per Booking</th>\n",
       "      <th>Probability of Booking</th>\n",
       "    </tr>\n",
       "  </thead>\n",
       "  <tbody>\n",
       "    <tr>\n",
       "      <td>Total Cost</td>\n",
       "      <td>1.000000</td>\n",
       "      <td>0.113212</td>\n",
       "      <td>0.868330</td>\n",
       "      <td>1.000000</td>\n",
       "      <td>0.029171</td>\n",
       "      <td>0.431231</td>\n",
       "      <td>-0.027310</td>\n",
       "      <td>-0.018533</td>\n",
       "      <td>0.539573</td>\n",
       "      <td>-0.000401</td>\n",
       "      <td>0.333614</td>\n",
       "      <td>0.549963</td>\n",
       "      <td>0.482530</td>\n",
       "      <td>0.003013</td>\n",
       "      <td>0.084022</td>\n",
       "      <td>-0.000769</td>\n",
       "    </tr>\n",
       "    <tr>\n",
       "      <td>Search Engine Bid</td>\n",
       "      <td>0.113212</td>\n",
       "      <td>1.000000</td>\n",
       "      <td>0.114934</td>\n",
       "      <td>0.113212</td>\n",
       "      <td>0.280368</td>\n",
       "      <td>0.023738</td>\n",
       "      <td>0.147721</td>\n",
       "      <td>-0.267877</td>\n",
       "      <td>0.114730</td>\n",
       "      <td>0.002874</td>\n",
       "      <td>0.039652</td>\n",
       "      <td>0.107165</td>\n",
       "      <td>0.101718</td>\n",
       "      <td>-0.005297</td>\n",
       "      <td>-0.065630</td>\n",
       "      <td>0.008993</td>\n",
       "    </tr>\n",
       "    <tr>\n",
       "      <td>Clicks</td>\n",
       "      <td>0.868330</td>\n",
       "      <td>0.114934</td>\n",
       "      <td>1.000000</td>\n",
       "      <td>0.868330</td>\n",
       "      <td>-0.033787</td>\n",
       "      <td>0.400361</td>\n",
       "      <td>-0.014000</td>\n",
       "      <td>-0.021096</td>\n",
       "      <td>0.827187</td>\n",
       "      <td>0.001533</td>\n",
       "      <td>0.192615</td>\n",
       "      <td>0.830764</td>\n",
       "      <td>0.789419</td>\n",
       "      <td>0.015593</td>\n",
       "      <td>0.089506</td>\n",
       "      <td>0.002635</td>\n",
       "    </tr>\n",
       "    <tr>\n",
       "      <td>Click Charges</td>\n",
       "      <td>1.000000</td>\n",
       "      <td>0.113212</td>\n",
       "      <td>0.868330</td>\n",
       "      <td>1.000000</td>\n",
       "      <td>0.029171</td>\n",
       "      <td>0.431231</td>\n",
       "      <td>-0.027310</td>\n",
       "      <td>-0.018533</td>\n",
       "      <td>0.539573</td>\n",
       "      <td>-0.000401</td>\n",
       "      <td>0.333614</td>\n",
       "      <td>0.549963</td>\n",
       "      <td>0.482530</td>\n",
       "      <td>0.003013</td>\n",
       "      <td>0.084022</td>\n",
       "      <td>-0.000769</td>\n",
       "    </tr>\n",
       "    <tr>\n",
       "      <td>Avg. Cost per Click</td>\n",
       "      <td>0.029171</td>\n",
       "      <td>0.280368</td>\n",
       "      <td>-0.033787</td>\n",
       "      <td>0.029171</td>\n",
       "      <td>1.000000</td>\n",
       "      <td>-0.016912</td>\n",
       "      <td>0.106898</td>\n",
       "      <td>-0.113344</td>\n",
       "      <td>-0.048201</td>\n",
       "      <td>0.003308</td>\n",
       "      <td>0.058178</td>\n",
       "      <td>-0.047568</td>\n",
       "      <td>-0.052634</td>\n",
       "      <td>-0.033836</td>\n",
       "      <td>-0.117778</td>\n",
       "      <td>0.004340</td>\n",
       "    </tr>\n",
       "    <tr>\n",
       "      <td>Impressions</td>\n",
       "      <td>0.431231</td>\n",
       "      <td>0.023738</td>\n",
       "      <td>0.400361</td>\n",
       "      <td>0.431231</td>\n",
       "      <td>-0.016912</td>\n",
       "      <td>1.000000</td>\n",
       "      <td>-0.026821</td>\n",
       "      <td>-0.005288</td>\n",
       "      <td>0.092177</td>\n",
       "      <td>-0.001338</td>\n",
       "      <td>0.201258</td>\n",
       "      <td>0.104770</td>\n",
       "      <td>0.069241</td>\n",
       "      <td>-0.000827</td>\n",
       "      <td>0.073082</td>\n",
       "      <td>-0.002120</td>\n",
       "    </tr>\n",
       "    <tr>\n",
       "      <td>Engine Click Thru %</td>\n",
       "      <td>-0.027310</td>\n",
       "      <td>0.147721</td>\n",
       "      <td>-0.014000</td>\n",
       "      <td>-0.027310</td>\n",
       "      <td>0.106898</td>\n",
       "      <td>-0.026821</td>\n",
       "      <td>1.000000</td>\n",
       "      <td>-0.221802</td>\n",
       "      <td>0.009194</td>\n",
       "      <td>0.001666</td>\n",
       "      <td>-0.040646</td>\n",
       "      <td>0.008413</td>\n",
       "      <td>0.011397</td>\n",
       "      <td>0.000861</td>\n",
       "      <td>-0.096359</td>\n",
       "      <td>0.028059</td>\n",
       "    </tr>\n",
       "    <tr>\n",
       "      <td>Avg. Pos.</td>\n",
       "      <td>-0.018533</td>\n",
       "      <td>-0.267877</td>\n",
       "      <td>-0.021096</td>\n",
       "      <td>-0.018533</td>\n",
       "      <td>-0.113344</td>\n",
       "      <td>-0.005288</td>\n",
       "      <td>-0.221802</td>\n",
       "      <td>1.000000</td>\n",
       "      <td>-0.031914</td>\n",
       "      <td>-0.013475</td>\n",
       "      <td>-0.012189</td>\n",
       "      <td>-0.030424</td>\n",
       "      <td>-0.030160</td>\n",
       "      <td>-0.024858</td>\n",
       "      <td>-0.020293</td>\n",
       "      <td>-0.024613</td>\n",
       "    </tr>\n",
       "    <tr>\n",
       "      <td>Total Volume of Bookings</td>\n",
       "      <td>0.539573</td>\n",
       "      <td>0.114730</td>\n",
       "      <td>0.827187</td>\n",
       "      <td>0.539573</td>\n",
       "      <td>-0.048201</td>\n",
       "      <td>0.092177</td>\n",
       "      <td>0.009194</td>\n",
       "      <td>-0.031914</td>\n",
       "      <td>1.000000</td>\n",
       "      <td>0.017679</td>\n",
       "      <td>0.036950</td>\n",
       "      <td>0.994498</td>\n",
       "      <td>0.992108</td>\n",
       "      <td>0.039970</td>\n",
       "      <td>0.058899</td>\n",
       "      <td>0.018974</td>\n",
       "    </tr>\n",
       "    <tr>\n",
       "      <td>Trans. Conv. %</td>\n",
       "      <td>-0.000401</td>\n",
       "      <td>0.002874</td>\n",
       "      <td>0.001533</td>\n",
       "      <td>-0.000401</td>\n",
       "      <td>0.003308</td>\n",
       "      <td>-0.001338</td>\n",
       "      <td>0.001666</td>\n",
       "      <td>-0.013475</td>\n",
       "      <td>0.017679</td>\n",
       "      <td>1.000000</td>\n",
       "      <td>-0.000528</td>\n",
       "      <td>0.014417</td>\n",
       "      <td>0.015157</td>\n",
       "      <td>0.856458</td>\n",
       "      <td>-0.026921</td>\n",
       "      <td>0.889333</td>\n",
       "    </tr>\n",
       "    <tr>\n",
       "      <td>Total Cost/ Trans.</td>\n",
       "      <td>0.333614</td>\n",
       "      <td>0.039652</td>\n",
       "      <td>0.192615</td>\n",
       "      <td>0.333614</td>\n",
       "      <td>0.058178</td>\n",
       "      <td>0.201258</td>\n",
       "      <td>-0.040646</td>\n",
       "      <td>-0.012189</td>\n",
       "      <td>0.036950</td>\n",
       "      <td>-0.000528</td>\n",
       "      <td>1.000000</td>\n",
       "      <td>0.035870</td>\n",
       "      <td>0.006182</td>\n",
       "      <td>-0.002331</td>\n",
       "      <td>0.048425</td>\n",
       "      <td>-0.002432</td>\n",
       "    </tr>\n",
       "    <tr>\n",
       "      <td>Amount</td>\n",
       "      <td>0.549963</td>\n",
       "      <td>0.107165</td>\n",
       "      <td>0.830764</td>\n",
       "      <td>0.549963</td>\n",
       "      <td>-0.047568</td>\n",
       "      <td>0.104770</td>\n",
       "      <td>0.008413</td>\n",
       "      <td>-0.030424</td>\n",
       "      <td>0.994498</td>\n",
       "      <td>0.014417</td>\n",
       "      <td>0.035870</td>\n",
       "      <td>1.000000</td>\n",
       "      <td>0.996899</td>\n",
       "      <td>0.037796</td>\n",
       "      <td>0.089820</td>\n",
       "      <td>0.015723</td>\n",
       "    </tr>\n",
       "    <tr>\n",
       "      <td>Net Revenue</td>\n",
       "      <td>0.482530</td>\n",
       "      <td>0.101718</td>\n",
       "      <td>0.789419</td>\n",
       "      <td>0.482530</td>\n",
       "      <td>-0.052634</td>\n",
       "      <td>0.069241</td>\n",
       "      <td>0.011397</td>\n",
       "      <td>-0.030160</td>\n",
       "      <td>0.992108</td>\n",
       "      <td>0.015157</td>\n",
       "      <td>0.006182</td>\n",
       "      <td>0.996899</td>\n",
       "      <td>1.000000</td>\n",
       "      <td>0.039354</td>\n",
       "      <td>0.086183</td>\n",
       "      <td>0.016561</td>\n",
       "    </tr>\n",
       "    <tr>\n",
       "      <td>ROA</td>\n",
       "      <td>0.003013</td>\n",
       "      <td>-0.005297</td>\n",
       "      <td>0.015593</td>\n",
       "      <td>0.003013</td>\n",
       "      <td>-0.033836</td>\n",
       "      <td>-0.000827</td>\n",
       "      <td>0.000861</td>\n",
       "      <td>-0.024858</td>\n",
       "      <td>0.039970</td>\n",
       "      <td>0.856458</td>\n",
       "      <td>-0.002331</td>\n",
       "      <td>0.037796</td>\n",
       "      <td>0.039354</td>\n",
       "      <td>1.000000</td>\n",
       "      <td>0.053132</td>\n",
       "      <td>0.772060</td>\n",
       "    </tr>\n",
       "    <tr>\n",
       "      <td>Average Revenue per Booking</td>\n",
       "      <td>0.084022</td>\n",
       "      <td>-0.065630</td>\n",
       "      <td>0.089506</td>\n",
       "      <td>0.084022</td>\n",
       "      <td>-0.117778</td>\n",
       "      <td>0.073082</td>\n",
       "      <td>-0.096359</td>\n",
       "      <td>-0.020293</td>\n",
       "      <td>0.058899</td>\n",
       "      <td>-0.026921</td>\n",
       "      <td>0.048425</td>\n",
       "      <td>0.089820</td>\n",
       "      <td>0.086183</td>\n",
       "      <td>0.053132</td>\n",
       "      <td>1.000000</td>\n",
       "      <td>-0.047665</td>\n",
       "    </tr>\n",
       "    <tr>\n",
       "      <td>Probability of Booking</td>\n",
       "      <td>-0.000769</td>\n",
       "      <td>0.008993</td>\n",
       "      <td>0.002635</td>\n",
       "      <td>-0.000769</td>\n",
       "      <td>0.004340</td>\n",
       "      <td>-0.002120</td>\n",
       "      <td>0.028059</td>\n",
       "      <td>-0.024613</td>\n",
       "      <td>0.018974</td>\n",
       "      <td>0.889333</td>\n",
       "      <td>-0.002432</td>\n",
       "      <td>0.015723</td>\n",
       "      <td>0.016561</td>\n",
       "      <td>0.772060</td>\n",
       "      <td>-0.047665</td>\n",
       "      <td>1.000000</td>\n",
       "    </tr>\n",
       "  </tbody>\n",
       "</table>\n",
       "</div>"
      ],
      "text/plain": [
       "                             Total Cost  Search Engine Bid    Clicks  \\\n",
       "Total Cost                     1.000000           0.113212  0.868330   \n",
       "Search Engine Bid              0.113212           1.000000  0.114934   \n",
       "Clicks                         0.868330           0.114934  1.000000   \n",
       "Click Charges                  1.000000           0.113212  0.868330   \n",
       "Avg. Cost per Click            0.029171           0.280368 -0.033787   \n",
       "Impressions                    0.431231           0.023738  0.400361   \n",
       "Engine Click Thru %           -0.027310           0.147721 -0.014000   \n",
       "Avg. Pos.                     -0.018533          -0.267877 -0.021096   \n",
       "Total Volume of Bookings       0.539573           0.114730  0.827187   \n",
       "Trans. Conv. %                -0.000401           0.002874  0.001533   \n",
       "Total Cost/ Trans.             0.333614           0.039652  0.192615   \n",
       "Amount                         0.549963           0.107165  0.830764   \n",
       "Net Revenue                    0.482530           0.101718  0.789419   \n",
       "ROA                            0.003013          -0.005297  0.015593   \n",
       "Average Revenue per Booking    0.084022          -0.065630  0.089506   \n",
       "Probability of Booking        -0.000769           0.008993  0.002635   \n",
       "\n",
       "                             Click Charges  Avg. Cost per Click  Impressions  \\\n",
       "Total Cost                        1.000000             0.029171     0.431231   \n",
       "Search Engine Bid                 0.113212             0.280368     0.023738   \n",
       "Clicks                            0.868330            -0.033787     0.400361   \n",
       "Click Charges                     1.000000             0.029171     0.431231   \n",
       "Avg. Cost per Click               0.029171             1.000000    -0.016912   \n",
       "Impressions                       0.431231            -0.016912     1.000000   \n",
       "Engine Click Thru %              -0.027310             0.106898    -0.026821   \n",
       "Avg. Pos.                        -0.018533            -0.113344    -0.005288   \n",
       "Total Volume of Bookings          0.539573            -0.048201     0.092177   \n",
       "Trans. Conv. %                   -0.000401             0.003308    -0.001338   \n",
       "Total Cost/ Trans.                0.333614             0.058178     0.201258   \n",
       "Amount                            0.549963            -0.047568     0.104770   \n",
       "Net Revenue                       0.482530            -0.052634     0.069241   \n",
       "ROA                               0.003013            -0.033836    -0.000827   \n",
       "Average Revenue per Booking       0.084022            -0.117778     0.073082   \n",
       "Probability of Booking           -0.000769             0.004340    -0.002120   \n",
       "\n",
       "                             Engine Click Thru %  Avg. Pos.  \\\n",
       "Total Cost                             -0.027310  -0.018533   \n",
       "Search Engine Bid                       0.147721  -0.267877   \n",
       "Clicks                                 -0.014000  -0.021096   \n",
       "Click Charges                          -0.027310  -0.018533   \n",
       "Avg. Cost per Click                     0.106898  -0.113344   \n",
       "Impressions                            -0.026821  -0.005288   \n",
       "Engine Click Thru %                     1.000000  -0.221802   \n",
       "Avg. Pos.                              -0.221802   1.000000   \n",
       "Total Volume of Bookings                0.009194  -0.031914   \n",
       "Trans. Conv. %                          0.001666  -0.013475   \n",
       "Total Cost/ Trans.                     -0.040646  -0.012189   \n",
       "Amount                                  0.008413  -0.030424   \n",
       "Net Revenue                             0.011397  -0.030160   \n",
       "ROA                                     0.000861  -0.024858   \n",
       "Average Revenue per Booking            -0.096359  -0.020293   \n",
       "Probability of Booking                  0.028059  -0.024613   \n",
       "\n",
       "                             Total Volume of Bookings  Trans. Conv. %  \\\n",
       "Total Cost                                   0.539573       -0.000401   \n",
       "Search Engine Bid                            0.114730        0.002874   \n",
       "Clicks                                       0.827187        0.001533   \n",
       "Click Charges                                0.539573       -0.000401   \n",
       "Avg. Cost per Click                         -0.048201        0.003308   \n",
       "Impressions                                  0.092177       -0.001338   \n",
       "Engine Click Thru %                          0.009194        0.001666   \n",
       "Avg. Pos.                                   -0.031914       -0.013475   \n",
       "Total Volume of Bookings                     1.000000        0.017679   \n",
       "Trans. Conv. %                               0.017679        1.000000   \n",
       "Total Cost/ Trans.                           0.036950       -0.000528   \n",
       "Amount                                       0.994498        0.014417   \n",
       "Net Revenue                                  0.992108        0.015157   \n",
       "ROA                                          0.039970        0.856458   \n",
       "Average Revenue per Booking                  0.058899       -0.026921   \n",
       "Probability of Booking                       0.018974        0.889333   \n",
       "\n",
       "                             Total Cost/ Trans.    Amount  Net Revenue  \\\n",
       "Total Cost                             0.333614  0.549963     0.482530   \n",
       "Search Engine Bid                      0.039652  0.107165     0.101718   \n",
       "Clicks                                 0.192615  0.830764     0.789419   \n",
       "Click Charges                          0.333614  0.549963     0.482530   \n",
       "Avg. Cost per Click                    0.058178 -0.047568    -0.052634   \n",
       "Impressions                            0.201258  0.104770     0.069241   \n",
       "Engine Click Thru %                   -0.040646  0.008413     0.011397   \n",
       "Avg. Pos.                             -0.012189 -0.030424    -0.030160   \n",
       "Total Volume of Bookings               0.036950  0.994498     0.992108   \n",
       "Trans. Conv. %                        -0.000528  0.014417     0.015157   \n",
       "Total Cost/ Trans.                     1.000000  0.035870     0.006182   \n",
       "Amount                                 0.035870  1.000000     0.996899   \n",
       "Net Revenue                            0.006182  0.996899     1.000000   \n",
       "ROA                                   -0.002331  0.037796     0.039354   \n",
       "Average Revenue per Booking            0.048425  0.089820     0.086183   \n",
       "Probability of Booking                -0.002432  0.015723     0.016561   \n",
       "\n",
       "                                  ROA  Average Revenue per Booking  \\\n",
       "Total Cost                   0.003013                     0.084022   \n",
       "Search Engine Bid           -0.005297                    -0.065630   \n",
       "Clicks                       0.015593                     0.089506   \n",
       "Click Charges                0.003013                     0.084022   \n",
       "Avg. Cost per Click         -0.033836                    -0.117778   \n",
       "Impressions                 -0.000827                     0.073082   \n",
       "Engine Click Thru %          0.000861                    -0.096359   \n",
       "Avg. Pos.                   -0.024858                    -0.020293   \n",
       "Total Volume of Bookings     0.039970                     0.058899   \n",
       "Trans. Conv. %               0.856458                    -0.026921   \n",
       "Total Cost/ Trans.          -0.002331                     0.048425   \n",
       "Amount                       0.037796                     0.089820   \n",
       "Net Revenue                  0.039354                     0.086183   \n",
       "ROA                          1.000000                     0.053132   \n",
       "Average Revenue per Booking  0.053132                     1.000000   \n",
       "Probability of Booking       0.772060                    -0.047665   \n",
       "\n",
       "                             Probability of Booking  \n",
       "Total Cost                                -0.000769  \n",
       "Search Engine Bid                          0.008993  \n",
       "Clicks                                     0.002635  \n",
       "Click Charges                             -0.000769  \n",
       "Avg. Cost per Click                        0.004340  \n",
       "Impressions                               -0.002120  \n",
       "Engine Click Thru %                        0.028059  \n",
       "Avg. Pos.                                 -0.024613  \n",
       "Total Volume of Bookings                   0.018974  \n",
       "Trans. Conv. %                             0.889333  \n",
       "Total Cost/ Trans.                        -0.002432  \n",
       "Amount                                     0.015723  \n",
       "Net Revenue                                0.016561  \n",
       "ROA                                        0.772060  \n",
       "Average Revenue per Booking               -0.047665  \n",
       "Probability of Booking                     1.000000  "
      ]
     },
     "execution_count": 16,
     "metadata": {},
     "output_type": "execute_result"
    }
   ],
   "source": [
    "cortab=list(['Total Cost','Search Engine Bid','Clicks','Click Charges','Avg. Cost per Click','Impressions','Engine Click Thru %','Avg. Pos.','Total Volume of Bookings','Trans. Conv. %','Total Cost/ Trans.','Amount','Net Revenue','ROA','Average Revenue per Booking','Probability of Booking'])\n",
    "c2= dcsheet[cortab].corr()\n",
    "c2"
   ]
  },
  {
   "cell_type": "code",
   "execution_count": 17,
   "metadata": {},
   "outputs": [
    {
     "data": {
      "text/plain": [
       "<matplotlib.axes._subplots.AxesSubplot at 0x2b0cedf5188>"
      ]
     },
     "execution_count": 17,
     "metadata": {},
     "output_type": "execute_result"
    },
    {
     "data": {
      "image/png": "[encoded data removed]",
      "text/plain": [
       "<Figure size 1440x432 with 2 Axes>"
      ]
     },
     "metadata": {
      "needs_background": "light"
     },
     "output_type": "display_data"
    }
   ],
   "source": [
    "plt.figure(figsize =(20,6))\n",
    "sns.heatmap(c2,cmap=\"PuBuGn\")"
   ]
  },
  {
   "cell_type": "markdown",
   "metadata": {},
   "source": [
    "### Original OLS Regressionn without Log Transformation"
   ]
  },
  {
   "cell_type": "code",
   "execution_count": 18,
   "metadata": {},
   "outputs": [
    {
     "name": "stderr",
     "output_type": "stream",
     "text": [
      "C:\\Users\\chike\\Anaconda3\\lib\\site-packages\\numpy\\core\\fromnumeric.py:2389: FutureWarning: Method .ptp is deprecated and will be removed in a future version. Use numpy.ptp instead.\n",
      "  return ptp(axis=axis, out=out, **kwargs)\n"
     ]
    }
   ],
   "source": [
    "indvars=sm.add_constant(dcsheet[['Search Engine Bid','Clicks','Total Volume of Bookings']])"
   ]
  },
  {
   "cell_type": "code",
   "execution_count": 19,
   "metadata": {},
   "outputs": [
    {
     "name": "stdout",
     "output_type": "stream",
     "text": [
      "                            OLS Regression Results                            \n",
      "==============================================================================\n",
      "Dep. Variable:             Total Cost   R-squared:                       0.856\n",
      "Model:                            OLS   Adj. R-squared:                  0.856\n",
      "Method:                 Least Squares   F-statistic:                     8910.\n",
      "Date:                Mon, 04 May 2020   Prob (F-statistic):               0.00\n",
      "Time:                        17:16:20   Log-Likelihood:                -34515.\n",
      "No. Observations:                4510   AIC:                         6.904e+04\n",
      "Df Residuals:                    4506   BIC:                         6.906e+04\n",
      "Df Model:                           3                                         \n",
      "Covariance Type:            nonrobust                                         \n",
      "============================================================================================\n",
      "                               coef    std err          t      P>|t|      [0.025      0.975]\n",
      "--------------------------------------------------------------------------------------------\n",
      "const                      -24.3500     14.655     -1.662      0.097     -53.081       4.381\n",
      "Search Engine Bid           10.1202      2.317      4.368      0.000       5.578      14.662\n",
      "Clicks                       1.6862      0.013    132.483      0.000       1.661       1.711\n",
      "Total Volume of Bookings   -62.8739      1.116    -56.322      0.000     -65.062     -60.685\n",
      "==============================================================================\n",
      "Omnibus:                     7051.739   Durbin-Watson:                   1.849\n",
      "Prob(Omnibus):                  0.000   Jarque-Bera (JB):         33431253.631\n",
      "Skew:                           8.975   Prob(JB):                         0.00\n",
      "Kurtosis:                     424.405   Cond. No.                     2.08e+03\n",
      "==============================================================================\n",
      "\n",
      "Warnings:\n",
      "[1] Standard Errors assume that the covariance matrix of the errors is correctly specified.\n",
      "[2] The condition number is large, 2.08e+03. This might indicate that there are\n",
      "strong multicollinearity or other numerical problems.\n"
     ]
    }
   ],
   "source": [
    "regmod=sm.OLS(dcsheet['Total Cost'],indvars)\n",
    "regfit=regmod.fit()\n",
    "print(regfit.summary())"
   ]
  },
  {
   "cell_type": "markdown",
   "metadata": {},
   "source": [
    "### Log transformation was taken as the the first answers gave a warning about scaling as seen above"
   ]
  },
  {
   "cell_type": "code",
   "execution_count": 20,
   "metadata": {},
   "outputs": [
    {
     "data": {
      "text/plain": [
       "Index(['Publisher ID', 'Publisher Name', 'Keyword ID', 'Keyword', 'Match Type',\n",
       "       'Campaign', 'Keyword Group', 'Category', 'Bid Strategy', 'Keyword Type',\n",
       "       'Status', 'Search Engine Bid', 'Clicks', 'Click Charges',\n",
       "       'Avg. Cost per Click', 'Impressions', 'Engine Click Thru %',\n",
       "       'Avg. Pos.', 'Trans. Conv. %', 'Total Cost/ Trans.', 'Amount',\n",
       "       'Total Cost', 'Total Volume of Bookings', 'Net Revenue', 'ROA',\n",
       "       'Average Revenue per Booking', 'Probability of Booking'],\n",
       "      dtype='object')"
      ]
     },
     "execution_count": 20,
     "metadata": {},
     "output_type": "execute_result"
    }
   ],
   "source": [
    "dcsheet.keys() #for guidance"
   ]
  },
  {
   "cell_type": "code",
   "execution_count": 21,
   "metadata": {},
   "outputs": [
    {
     "data": {
      "text/plain": [
       "Clicks         0\n",
       "Impressions    0\n",
       "dtype: int64"
      ]
     },
     "execution_count": 21,
     "metadata": {},
     "output_type": "execute_result"
    }
   ],
   "source": [
    "dcsheet[['Clicks','Impressions']].min()"
   ]
  },
  {
   "cell_type": "code",
   "execution_count": 22,
   "metadata": {},
   "outputs": [
    {
     "name": "stderr",
     "output_type": "stream",
     "text": [
      "C:\\Users\\chike\\Anaconda3\\lib\\site-packages\\pandas\\core\\series.py:853: RuntimeWarning: divide by zero encountered in log\n",
      "  result = getattr(ufunc, method)(*inputs, **kwargs)\n"
     ]
    }
   ],
   "source": [
    "dcsheet['Log_Clicks'] = np.log(dcsheet['Clicks'])"
   ]
  },
  {
   "cell_type": "code",
   "execution_count": 23,
   "metadata": {},
   "outputs": [],
   "source": [
    "dcsheet['Log_Clicks']=np.log1p(dcsheet['Clicks'])"
   ]
  },
  {
   "cell_type": "code",
   "execution_count": 24,
   "metadata": {},
   "outputs": [],
   "source": [
    "dcsheet['Log_Impressions'] = np.log(dcsheet['Impressions'])"
   ]
  },
  {
   "cell_type": "code",
   "execution_count": 25,
   "metadata": {},
   "outputs": [],
   "source": [
    "dcsheet['Log_Impressions']=np.log1p(dcsheet['Impressions'])"
   ]
  },
  {
   "cell_type": "code",
   "execution_count": 26,
   "metadata": {},
   "outputs": [
    {
     "data": {
      "text/html": [
       "<div>\n",
       "<style scoped>\n",
       "    .dataframe tbody tr th:only-of-type {\n",
       "        vertical-align: middle;\n",
       "    }\n",
       "\n",
       "    .dataframe tbody tr th {\n",
       "        vertical-align: top;\n",
       "    }\n",
       "\n",
       "    .dataframe thead th {\n",
       "        text-align: right;\n",
       "    }\n",
       "</style>\n",
       "<table border=\"1\" class=\"dataframe\">\n",
       "  <thead>\n",
       "    <tr style=\"text-align: right;\">\n",
       "      <th></th>\n",
       "      <th>Publisher ID</th>\n",
       "      <th>Publisher Name</th>\n",
       "      <th>Keyword ID</th>\n",
       "      <th>Keyword</th>\n",
       "      <th>Match Type</th>\n",
       "      <th>Campaign</th>\n",
       "      <th>Keyword Group</th>\n",
       "      <th>Category</th>\n",
       "      <th>Bid Strategy</th>\n",
       "      <th>Keyword Type</th>\n",
       "      <th>...</th>\n",
       "      <th>Total Cost/ Trans.</th>\n",
       "      <th>Amount</th>\n",
       "      <th>Total Cost</th>\n",
       "      <th>Total Volume of Bookings</th>\n",
       "      <th>Net Revenue</th>\n",
       "      <th>ROA</th>\n",
       "      <th>Average Revenue per Booking</th>\n",
       "      <th>Probability of Booking</th>\n",
       "      <th>Log_Clicks</th>\n",
       "      <th>Log_Impressions</th>\n",
       "    </tr>\n",
       "  </thead>\n",
       "  <tbody>\n",
       "    <tr>\n",
       "      <td>0</td>\n",
       "      <td>K2615</td>\n",
       "      <td>Yahoo - US</td>\n",
       "      <td>43000000039657988</td>\n",
       "      <td>fly to florence</td>\n",
       "      <td>Advanced</td>\n",
       "      <td>Western Europe Destinations</td>\n",
       "      <td>Florence</td>\n",
       "      <td>uncategorized</td>\n",
       "      <td>NaN</td>\n",
       "      <td>Unassigned</td>\n",
       "      <td>...</td>\n",
       "      <td>0.256944</td>\n",
       "      <td>8777.95</td>\n",
       "      <td>2.3125</td>\n",
       "      <td>9</td>\n",
       "      <td>8775.6375</td>\n",
       "      <td>379487.027027</td>\n",
       "      <td>975.327778</td>\n",
       "      <td>0.818182</td>\n",
       "      <td>0.693147</td>\n",
       "      <td>2.484907</td>\n",
       "    </tr>\n",
       "    <tr>\n",
       "      <td>1</td>\n",
       "      <td>K2615</td>\n",
       "      <td>Yahoo - US</td>\n",
       "      <td>43000000039651113</td>\n",
       "      <td>low international airfare</td>\n",
       "      <td>Advanced</td>\n",
       "      <td>Geo Targeted DC</td>\n",
       "      <td>Low International DC</td>\n",
       "      <td>uncategorized</td>\n",
       "      <td>NaN</td>\n",
       "      <td>Unassigned</td>\n",
       "      <td>...</td>\n",
       "      <td>0.625000</td>\n",
       "      <td>1574.20</td>\n",
       "      <td>0.6250</td>\n",
       "      <td>1</td>\n",
       "      <td>1573.5750</td>\n",
       "      <td>251772.000000</td>\n",
       "      <td>1574.200000</td>\n",
       "      <td>0.166667</td>\n",
       "      <td>0.693147</td>\n",
       "      <td>1.945910</td>\n",
       "    </tr>\n",
       "    <tr>\n",
       "      <td>2</td>\n",
       "      <td>K2003</td>\n",
       "      <td>MSN - Global</td>\n",
       "      <td>43000000019452431</td>\n",
       "      <td>air discount france ticket</td>\n",
       "      <td>Broad</td>\n",
       "      <td>Air France Brand &amp; French Destinations</td>\n",
       "      <td>France</td>\n",
       "      <td>uncategorized</td>\n",
       "      <td>Position 2-5 Bid Strategy</td>\n",
       "      <td>Unassigned</td>\n",
       "      <td>...</td>\n",
       "      <td>0.387500</td>\n",
       "      <td>390.15</td>\n",
       "      <td>0.3875</td>\n",
       "      <td>1</td>\n",
       "      <td>389.7625</td>\n",
       "      <td>100583.870968</td>\n",
       "      <td>390.150000</td>\n",
       "      <td>0.111111</td>\n",
       "      <td>0.693147</td>\n",
       "      <td>2.302585</td>\n",
       "    </tr>\n",
       "    <tr>\n",
       "      <td>3</td>\n",
       "      <td>K1175</td>\n",
       "      <td>Google - Global</td>\n",
       "      <td>43000000005663331</td>\n",
       "      <td>[airfrance]</td>\n",
       "      <td>Exact</td>\n",
       "      <td>Air France Global Campaign</td>\n",
       "      <td>Air France</td>\n",
       "      <td>airfrance</td>\n",
       "      <td>Position 1- 3</td>\n",
       "      <td>Unassigned</td>\n",
       "      <td>...</td>\n",
       "      <td>1.156250</td>\n",
       "      <td>1665.15</td>\n",
       "      <td>2.3125</td>\n",
       "      <td>2</td>\n",
       "      <td>1662.8375</td>\n",
       "      <td>71906.491546</td>\n",
       "      <td>832.575000</td>\n",
       "      <td>0.004988</td>\n",
       "      <td>4.094345</td>\n",
       "      <td>5.996452</td>\n",
       "    </tr>\n",
       "    <tr>\n",
       "      <td>4</td>\n",
       "      <td>K1123</td>\n",
       "      <td>Overture - Global</td>\n",
       "      <td>43000000005421354</td>\n",
       "      <td>air france online booking</td>\n",
       "      <td>Standard</td>\n",
       "      <td>Unassigned</td>\n",
       "      <td>Unassigned</td>\n",
       "      <td>airfrance</td>\n",
       "      <td>Position 1-2 Target</td>\n",
       "      <td>Unassigned</td>\n",
       "      <td>...</td>\n",
       "      <td>2.200000</td>\n",
       "      <td>935.00</td>\n",
       "      <td>2.2000</td>\n",
       "      <td>1</td>\n",
       "      <td>932.8000</td>\n",
       "      <td>42400.000000</td>\n",
       "      <td>935.000000</td>\n",
       "      <td>0.003145</td>\n",
       "      <td>2.197225</td>\n",
       "      <td>5.765191</td>\n",
       "    </tr>\n",
       "  </tbody>\n",
       "</table>\n",
       "<p>5 rows × 29 columns</p>\n",
       "</div>"
      ],
      "text/plain": [
       "  Publisher ID     Publisher Name         Keyword ID  \\\n",
       "0        K2615         Yahoo - US  43000000039657988   \n",
       "1        K2615         Yahoo - US  43000000039651113   \n",
       "2        K2003       MSN - Global  43000000019452431   \n",
       "3        K1175    Google - Global  43000000005663331   \n",
       "4        K1123  Overture - Global  43000000005421354   \n",
       "\n",
       "                      Keyword Match Type  \\\n",
       "0             fly to florence   Advanced   \n",
       "1   low international airfare   Advanced   \n",
       "2  air discount france ticket      Broad   \n",
       "3                 [airfrance]      Exact   \n",
       "4   air france online booking   Standard   \n",
       "\n",
       "                                 Campaign         Keyword Group  \\\n",
       "0             Western Europe Destinations              Florence   \n",
       "1                         Geo Targeted DC  Low International DC   \n",
       "2  Air France Brand & French Destinations                France   \n",
       "3              Air France Global Campaign            Air France   \n",
       "4                              Unassigned            Unassigned   \n",
       "\n",
       "        Category               Bid Strategy Keyword Type  ...  \\\n",
       "0  uncategorized                        NaN   Unassigned  ...   \n",
       "1  uncategorized                        NaN   Unassigned  ...   \n",
       "2  uncategorized  Position 2-5 Bid Strategy   Unassigned  ...   \n",
       "3      airfrance              Position 1- 3   Unassigned  ...   \n",
       "4      airfrance        Position 1-2 Target   Unassigned  ...   \n",
       "\n",
       "  Total Cost/ Trans.   Amount  Total Cost  Total Volume of Bookings  \\\n",
       "0           0.256944  8777.95      2.3125                         9   \n",
       "1           0.625000  1574.20      0.6250                         1   \n",
       "2           0.387500   390.15      0.3875                         1   \n",
       "3           1.156250  1665.15      2.3125                         2   \n",
       "4           2.200000   935.00      2.2000                         1   \n",
       "\n",
       "   Net Revenue            ROA  Average Revenue per Booking  \\\n",
       "0    8775.6375  379487.027027                   975.327778   \n",
       "1    1573.5750  251772.000000                  1574.200000   \n",
       "2     389.7625  100583.870968                   390.150000   \n",
       "3    1662.8375   71906.491546                   832.575000   \n",
       "4     932.8000   42400.000000                   935.000000   \n",
       "\n",
       "   Probability of Booking  Log_Clicks  Log_Impressions  \n",
       "0                0.818182    0.693147         2.484907  \n",
       "1                0.166667    0.693147         1.945910  \n",
       "2                0.111111    0.693147         2.302585  \n",
       "3                0.004988    4.094345         5.996452  \n",
       "4                0.003145    2.197225         5.765191  \n",
       "\n",
       "[5 rows x 29 columns]"
      ]
     },
     "execution_count": 26,
     "metadata": {},
     "output_type": "execute_result"
    }
   ],
   "source": [
    "dcsheet.head()"
   ]
  },
  {
   "cell_type": "markdown",
   "metadata": {},
   "source": [
    "### Correlation Matrix Between our selected Variables"
   ]
  },
  {
   "cell_type": "code",
   "execution_count": 27,
   "metadata": {},
   "outputs": [
    {
     "data": {
      "text/html": [
       "<div>\n",
       "<style scoped>\n",
       "    .dataframe tbody tr th:only-of-type {\n",
       "        vertical-align: middle;\n",
       "    }\n",
       "\n",
       "    .dataframe tbody tr th {\n",
       "        vertical-align: top;\n",
       "    }\n",
       "\n",
       "    .dataframe thead th {\n",
       "        text-align: right;\n",
       "    }\n",
       "</style>\n",
       "<table border=\"1\" class=\"dataframe\">\n",
       "  <thead>\n",
       "    <tr style=\"text-align: right;\">\n",
       "      <th></th>\n",
       "      <th>Search Engine Bid</th>\n",
       "      <th>Log_Clicks</th>\n",
       "      <th>Clicks</th>\n",
       "      <th>Total Volume of Bookings</th>\n",
       "    </tr>\n",
       "  </thead>\n",
       "  <tbody>\n",
       "    <tr>\n",
       "      <td>Search Engine Bid</td>\n",
       "      <td>1.000000</td>\n",
       "      <td>-0.039096</td>\n",
       "      <td>0.114934</td>\n",
       "      <td>0.114730</td>\n",
       "    </tr>\n",
       "    <tr>\n",
       "      <td>Log_Clicks</td>\n",
       "      <td>-0.039096</td>\n",
       "      <td>1.000000</td>\n",
       "      <td>0.374914</td>\n",
       "      <td>0.279083</td>\n",
       "    </tr>\n",
       "    <tr>\n",
       "      <td>Clicks</td>\n",
       "      <td>0.114934</td>\n",
       "      <td>0.374914</td>\n",
       "      <td>1.000000</td>\n",
       "      <td>0.827187</td>\n",
       "    </tr>\n",
       "    <tr>\n",
       "      <td>Total Volume of Bookings</td>\n",
       "      <td>0.114730</td>\n",
       "      <td>0.279083</td>\n",
       "      <td>0.827187</td>\n",
       "      <td>1.000000</td>\n",
       "    </tr>\n",
       "  </tbody>\n",
       "</table>\n",
       "</div>"
      ],
      "text/plain": [
       "                          Search Engine Bid  Log_Clicks    Clicks  \\\n",
       "Search Engine Bid                  1.000000   -0.039096  0.114934   \n",
       "Log_Clicks                        -0.039096    1.000000  0.374914   \n",
       "Clicks                             0.114934    0.374914  1.000000   \n",
       "Total Volume of Bookings           0.114730    0.279083  0.827187   \n",
       "\n",
       "                          Total Volume of Bookings  \n",
       "Search Engine Bid                         0.114730  \n",
       "Log_Clicks                                0.279083  \n",
       "Clicks                                    0.827187  \n",
       "Total Volume of Bookings                  1.000000  "
      ]
     },
     "execution_count": 27,
     "metadata": {},
     "output_type": "execute_result"
    }
   ],
   "source": [
    "cortab2=list(['Search Engine Bid','Log_Clicks','Clicks','Total Volume of Bookings'])\n",
    "c3= dcsheet[cortab2].corr()\n",
    "c3"
   ]
  },
  {
   "cell_type": "code",
   "execution_count": 28,
   "metadata": {},
   "outputs": [
    {
     "data": {
      "text/plain": [
       "<matplotlib.axes._subplots.AxesSubplot at 0x2b0cef6d2c8>"
      ]
     },
     "execution_count": 28,
     "metadata": {},
     "output_type": "execute_result"
    },
    {
     "data": {
      "image/png": "[encoded data removed]",
      "text/plain": [
       "<Figure size 1440x432 with 2 Axes>"
      ]
     },
     "metadata": {
      "needs_background": "light"
     },
     "output_type": "display_data"
    }
   ],
   "source": [
    "plt.figure(figsize =(20,6))\n",
    "sns.heatmap(c3,cmap=\"PuBuGn\")"
   ]
  },
  {
   "cell_type": "markdown",
   "metadata": {},
   "source": [
    "### OLS Regression Analysis"
   ]
  },
  {
   "cell_type": "code",
   "execution_count": 29,
   "metadata": {},
   "outputs": [],
   "source": [
    "indepvars=sm.add_constant(dcsheet[['Search Engine Bid','Log_Clicks','Total Volume of Bookings']])"
   ]
  },
  {
   "cell_type": "code",
   "execution_count": 30,
   "metadata": {
    "scrolled": true
   },
   "outputs": [
    {
     "name": "stdout",
     "output_type": "stream",
     "text": [
      "                            OLS Regression Results                            \n",
      "==============================================================================\n",
      "Dep. Variable:             Total Cost   R-squared:                       0.363\n",
      "Model:                            OLS   Adj. R-squared:                  0.363\n",
      "Method:                 Least Squares   F-statistic:                     857.5\n",
      "Date:                Mon, 04 May 2020   Prob (F-statistic):               0.00\n",
      "Time:                        17:16:22   Log-Likelihood:                -37862.\n",
      "No. Observations:                4510   AIC:                         7.573e+04\n",
      "Df Residuals:                    4506   BIC:                         7.576e+04\n",
      "Df Model:                           3                                         \n",
      "Covariance Type:            nonrobust                                         \n",
      "============================================================================================\n",
      "                               coef    std err          t      P>|t|      [0.025      0.975]\n",
      "--------------------------------------------------------------------------------------------\n",
      "const                     -529.8657     38.980    -13.593      0.000    -606.286    -453.445\n",
      "Search Engine Bid           29.2058      4.877      5.988      0.000      19.644      38.768\n",
      "Log_Clicks                 226.2862     10.194     22.197      0.000     206.300     246.272\n",
      "Total Volume of Bookings    50.3497      1.383     36.398      0.000      47.638      53.062\n",
      "==============================================================================\n",
      "Omnibus:                    10342.193   Durbin-Watson:                   1.774\n",
      "Prob(Omnibus):                  0.000   Jarque-Bera (JB):         90061639.740\n",
      "Skew:                          21.857   Prob(JB):                         0.00\n",
      "Kurtosis:                     693.907   Cond. No.                         30.3\n",
      "==============================================================================\n",
      "\n",
      "Warnings:\n",
      "[1] Standard Errors assume that the covariance matrix of the errors is correctly specified.\n"
     ]
    }
   ],
   "source": [
    "regmod=sm.OLS(dcsheet['Total Cost'],indepvars)\n",
    "regfit=regmod.fit()\n",
    "print(regfit.summary())"
   ]
  },
  {
   "cell_type": "markdown",
   "metadata": {},
   "source": [
    "# BONUS QUESTIONS"
   ]
  },
  {
   "cell_type": "markdown",
   "metadata": {},
   "source": [
    "### Summarize metrics for each publisher. \n",
    "#### Please report the summary table includingthe variables as shown below (The answer for Google-global is already provided, and please fill-in others.) \n",
    "* publisher Name\n",
    "\n",
    "* Sum of Net Revenue\n",
    "\n",
    "* Average Cost Per Click\n",
    "\n",
    "* Total Volume of Bookings\n",
    "\n",
    "* Average Revenue Per Booking\n",
    "\n",
    "* ROA\n",
    "\n",
    "* Probability of Booking\n",
    "\n",
    "* Sum of Click Charges\n",
    "\n",
    "* Cost/Booking\n",
    "\n",
    "Google - Global \n",
    "\n",
    "* $808,603 \n",
    "\n",
    "* $1.66 \n",
    "\n",
    "* 797 \n",
    "\n",
    "* $1,166\n",
    "\n",
    "* 669% \n",
    "\n",
    "* 0.0441% \n",
    "\n",
    "* $120,947 \n",
    "\n",
    "* $151.75\n"
   ]
  },
  {
   "cell_type": "code",
   "execution_count": 31,
   "metadata": {},
   "outputs": [
    {
     "data": {
      "text/plain": [
       "Index(['Publisher ID', 'Publisher Name', 'Keyword ID', 'Keyword', 'Match Type',\n",
       "       'Campaign', 'Keyword Group', 'Category', 'Bid Strategy', 'Keyword Type',\n",
       "       'Status', 'Search Engine Bid', 'Clicks', 'Click Charges',\n",
       "       'Avg. Cost per Click', 'Impressions', 'Engine Click Thru %',\n",
       "       'Avg. Pos.', 'Trans. Conv. %', 'Total Cost/ Trans.', 'Amount',\n",
       "       'Total Cost', 'Total Volume of Bookings', 'Net Revenue', 'ROA',\n",
       "       'Average Revenue per Booking', 'Probability of Booking', 'Log_Clicks',\n",
       "       'Log_Impressions'],\n",
       "      dtype='object')"
      ]
     },
     "execution_count": 31,
     "metadata": {},
     "output_type": "execute_result"
    }
   ],
   "source": [
    "dcsheet.columns"
   ]
  },
  {
   "cell_type": "code",
   "execution_count": 32,
   "metadata": {},
   "outputs": [
    {
     "data": {
      "text/html": [
       "<div>\n",
       "<style scoped>\n",
       "    .dataframe tbody tr th:only-of-type {\n",
       "        vertical-align: middle;\n",
       "    }\n",
       "\n",
       "    .dataframe tbody tr th {\n",
       "        vertical-align: top;\n",
       "    }\n",
       "\n",
       "    .dataframe thead th {\n",
       "        text-align: right;\n",
       "    }\n",
       "</style>\n",
       "<table border=\"1\" class=\"dataframe\">\n",
       "  <thead>\n",
       "    <tr style=\"text-align: right;\">\n",
       "      <th></th>\n",
       "      <th>Amount</th>\n",
       "      <th>Average Revenue per Booking</th>\n",
       "      <th>Avg. Cost per Click</th>\n",
       "      <th>Avg. Pos.</th>\n",
       "      <th>Click Charges</th>\n",
       "      <th>Clicks</th>\n",
       "      <th>Engine Click Thru %</th>\n",
       "      <th>Impressions</th>\n",
       "      <th>Keyword ID</th>\n",
       "      <th>Log_Clicks</th>\n",
       "      <th>Log_Impressions</th>\n",
       "      <th>Net Revenue</th>\n",
       "      <th>Probability of Booking</th>\n",
       "      <th>ROA</th>\n",
       "      <th>Search Engine Bid</th>\n",
       "      <th>Total Cost</th>\n",
       "      <th>Total Cost/ Trans.</th>\n",
       "      <th>Total Volume of Bookings</th>\n",
       "      <th>Trans. Conv. %</th>\n",
       "    </tr>\n",
       "    <tr>\n",
       "      <th>Publisher Name</th>\n",
       "      <th></th>\n",
       "      <th></th>\n",
       "      <th></th>\n",
       "      <th></th>\n",
       "      <th></th>\n",
       "      <th></th>\n",
       "      <th></th>\n",
       "      <th></th>\n",
       "      <th></th>\n",
       "      <th></th>\n",
       "      <th></th>\n",
       "      <th></th>\n",
       "      <th></th>\n",
       "      <th></th>\n",
       "      <th></th>\n",
       "      <th></th>\n",
       "      <th></th>\n",
       "      <th></th>\n",
       "      <th></th>\n",
       "    </tr>\n",
       "  </thead>\n",
       "  <tbody>\n",
       "    <tr>\n",
       "      <td>Google - Global</td>\n",
       "      <td>929549.80</td>\n",
       "      <td>87202.810029</td>\n",
       "      <td>874.409053</td>\n",
       "      <td>600.434129</td>\n",
       "      <td>120946.711971</td>\n",
       "      <td>72895</td>\n",
       "      <td>3534.832560</td>\n",
       "      <td>1808326</td>\n",
       "      <td>1.689900e+19</td>\n",
       "      <td>1076.946645</td>\n",
       "      <td>2243.251375</td>\n",
       "      <td>8.086031e+05</td>\n",
       "      <td>0.179334</td>\n",
       "      <td>184333.771453</td>\n",
       "      <td>2552.5000</td>\n",
       "      <td>120946.711971</td>\n",
       "      <td>27862.313379</td>\n",
       "      <td>797</td>\n",
       "      <td>170.037009</td>\n",
       "    </tr>\n",
       "    <tr>\n",
       "      <td>Google - US</td>\n",
       "      <td>1745481.80</td>\n",
       "      <td>121842.708061</td>\n",
       "      <td>4937.143388</td>\n",
       "      <td>3899.292193</td>\n",
       "      <td>353640.598920</td>\n",
       "      <td>192109</td>\n",
       "      <td>31250.862871</td>\n",
       "      <td>3855689</td>\n",
       "      <td>8.905300e+19</td>\n",
       "      <td>4295.146340</td>\n",
       "      <td>9420.186031</td>\n",
       "      <td>1.391841e+06</td>\n",
       "      <td>1.568593</td>\n",
       "      <td>253043.395083</td>\n",
       "      <td>13975.3125</td>\n",
       "      <td>353640.598920</td>\n",
       "      <td>52017.065255</td>\n",
       "      <td>1550</td>\n",
       "      <td>859.048175</td>\n",
       "    </tr>\n",
       "    <tr>\n",
       "      <td>MSN - Global</td>\n",
       "      <td>145524.25</td>\n",
       "      <td>12388.904156</td>\n",
       "      <td>213.146822</td>\n",
       "      <td>176.683655</td>\n",
       "      <td>12160.362438</td>\n",
       "      <td>11217</td>\n",
       "      <td>726.224884</td>\n",
       "      <td>139979</td>\n",
       "      <td>4.257000e+18</td>\n",
       "      <td>220.325892</td>\n",
       "      <td>518.269723</td>\n",
       "      <td>1.333639e+05</td>\n",
       "      <td>0.124224</td>\n",
       "      <td>105426.939183</td>\n",
       "      <td>0.0000</td>\n",
       "      <td>12160.362438</td>\n",
       "      <td>1105.415869</td>\n",
       "      <td>129</td>\n",
       "      <td>112.201563</td>\n",
       "    </tr>\n",
       "    <tr>\n",
       "      <td>MSN - US</td>\n",
       "      <td>181549.80</td>\n",
       "      <td>8468.220414</td>\n",
       "      <td>281.012068</td>\n",
       "      <td>172.362044</td>\n",
       "      <td>16098.487407</td>\n",
       "      <td>10808</td>\n",
       "      <td>809.825062</td>\n",
       "      <td>170120</td>\n",
       "      <td>4.214000e+18</td>\n",
       "      <td>225.033503</td>\n",
       "      <td>515.566673</td>\n",
       "      <td>1.654513e+05</td>\n",
       "      <td>0.053506</td>\n",
       "      <td>11572.559630</td>\n",
       "      <td>0.0000</td>\n",
       "      <td>16098.487407</td>\n",
       "      <td>505.456018</td>\n",
       "      <td>140</td>\n",
       "      <td>71.683550</td>\n",
       "    </tr>\n",
       "    <tr>\n",
       "      <td>Overture - Global</td>\n",
       "      <td>430084.70</td>\n",
       "      <td>50682.923353</td>\n",
       "      <td>445.031643</td>\n",
       "      <td>1066.630917</td>\n",
       "      <td>64295.862144</td>\n",
       "      <td>60899</td>\n",
       "      <td>1961.968457</td>\n",
       "      <td>17898727</td>\n",
       "      <td>2.377900e+19</td>\n",
       "      <td>1311.149824</td>\n",
       "      <td>3597.223323</td>\n",
       "      <td>3.657888e+05</td>\n",
       "      <td>0.047681</td>\n",
       "      <td>248001.653633</td>\n",
       "      <td>2641.8000</td>\n",
       "      <td>64295.862144</td>\n",
       "      <td>9107.190341</td>\n",
       "      <td>372</td>\n",
       "      <td>130.347708</td>\n",
       "    </tr>\n",
       "    <tr>\n",
       "      <td>Overture - US</td>\n",
       "      <td>347433.25</td>\n",
       "      <td>54326.464946</td>\n",
       "      <td>504.951489</td>\n",
       "      <td>1651.034823</td>\n",
       "      <td>141976.074456</td>\n",
       "      <td>119323</td>\n",
       "      <td>1766.751438</td>\n",
       "      <td>17062488</td>\n",
       "      <td>2.842300e+19</td>\n",
       "      <td>1678.202085</td>\n",
       "      <td>4330.940686</td>\n",
       "      <td>2.054572e+05</td>\n",
       "      <td>0.042853</td>\n",
       "      <td>80387.926970</td>\n",
       "      <td>1350.6625</td>\n",
       "      <td>141976.074456</td>\n",
       "      <td>28859.714386</td>\n",
       "      <td>289</td>\n",
       "      <td>62.725412</td>\n",
       "    </tr>\n",
       "    <tr>\n",
       "      <td>Yahoo - US</td>\n",
       "      <td>882288.95</td>\n",
       "      <td>42015.465690</td>\n",
       "      <td>1269.286042</td>\n",
       "      <td>1136.237388</td>\n",
       "      <td>46197.824620</td>\n",
       "      <td>45598</td>\n",
       "      <td>10197.476850</td>\n",
       "      <td>933345</td>\n",
       "      <td>2.730500e+19</td>\n",
       "      <td>1051.694299</td>\n",
       "      <td>2690.224645</td>\n",
       "      <td>8.360911e+05</td>\n",
       "      <td>1.054891</td>\n",
       "      <td>657010.278741</td>\n",
       "      <td>3989.9125</td>\n",
       "      <td>46197.824620</td>\n",
       "      <td>5052.422226</td>\n",
       "      <td>662</td>\n",
       "      <td>1161.296968</td>\n",
       "    </tr>\n",
       "  </tbody>\n",
       "</table>\n",
       "</div>"
      ],
      "text/plain": [
       "                       Amount  Average Revenue per Booking  \\\n",
       "Publisher Name                                               \n",
       "Google - Global     929549.80                 87202.810029   \n",
       "Google - US        1745481.80                121842.708061   \n",
       "MSN - Global        145524.25                 12388.904156   \n",
       "MSN - US            181549.80                  8468.220414   \n",
       "Overture - Global   430084.70                 50682.923353   \n",
       "Overture - US       347433.25                 54326.464946   \n",
       "Yahoo - US          882288.95                 42015.465690   \n",
       "\n",
       "                   Avg. Cost per Click    Avg. Pos.  Click Charges  Clicks  \\\n",
       "Publisher Name                                                               \n",
       "Google - Global             874.409053   600.434129  120946.711971   72895   \n",
       "Google - US                4937.143388  3899.292193  353640.598920  192109   \n",
       "MSN - Global                213.146822   176.683655   12160.362438   11217   \n",
       "MSN - US                    281.012068   172.362044   16098.487407   10808   \n",
       "Overture - Global           445.031643  1066.630917   64295.862144   60899   \n",
       "Overture - US               504.951489  1651.034823  141976.074456  119323   \n",
       "Yahoo - US                 1269.286042  1136.237388   46197.824620   45598   \n",
       "\n",
       "                   Engine Click Thru %  Impressions    Keyword ID  \\\n",
       "Publisher Name                                                      \n",
       "Google - Global            3534.832560      1808326  1.689900e+19   \n",
       "Google - US               31250.862871      3855689  8.905300e+19   \n",
       "MSN - Global                726.224884       139979  4.257000e+18   \n",
       "MSN - US                    809.825062       170120  4.214000e+18   \n",
       "Overture - Global          1961.968457     17898727  2.377900e+19   \n",
       "Overture - US              1766.751438     17062488  2.842300e+19   \n",
       "Yahoo - US                10197.476850       933345  2.730500e+19   \n",
       "\n",
       "                    Log_Clicks  Log_Impressions   Net Revenue  \\\n",
       "Publisher Name                                                  \n",
       "Google - Global    1076.946645      2243.251375  8.086031e+05   \n",
       "Google - US        4295.146340      9420.186031  1.391841e+06   \n",
       "MSN - Global        220.325892       518.269723  1.333639e+05   \n",
       "MSN - US            225.033503       515.566673  1.654513e+05   \n",
       "Overture - Global  1311.149824      3597.223323  3.657888e+05   \n",
       "Overture - US      1678.202085      4330.940686  2.054572e+05   \n",
       "Yahoo - US         1051.694299      2690.224645  8.360911e+05   \n",
       "\n",
       "                   Probability of Booking            ROA  Search Engine Bid  \\\n",
       "Publisher Name                                                                \n",
       "Google - Global                  0.179334  184333.771453          2552.5000   \n",
       "Google - US                      1.568593  253043.395083         13975.3125   \n",
       "MSN - Global                     0.124224  105426.939183             0.0000   \n",
       "MSN - US                         0.053506   11572.559630             0.0000   \n",
       "Overture - Global                0.047681  248001.653633          2641.8000   \n",
       "Overture - US                    0.042853   80387.926970          1350.6625   \n",
       "Yahoo - US                       1.054891  657010.278741          3989.9125   \n",
       "\n",
       "                      Total Cost  Total Cost/ Trans.  \\\n",
       "Publisher Name                                         \n",
       "Google - Global    120946.711971        27862.313379   \n",
       "Google - US        353640.598920        52017.065255   \n",
       "MSN - Global        12160.362438         1105.415869   \n",
       "MSN - US            16098.487407          505.456018   \n",
       "Overture - Global   64295.862144         9107.190341   \n",
       "Overture - US      141976.074456        28859.714386   \n",
       "Yahoo - US          46197.824620         5052.422226   \n",
       "\n",
       "                   Total Volume of Bookings  Trans. Conv. %  \n",
       "Publisher Name                                               \n",
       "Google - Global                         797      170.037009  \n",
       "Google - US                            1550      859.048175  \n",
       "MSN - Global                            129      112.201563  \n",
       "MSN - US                                140       71.683550  \n",
       "Overture - Global                       372      130.347708  \n",
       "Overture - US                           289       62.725412  \n",
       "Yahoo - US                              662     1161.296968  "
      ]
     },
     "execution_count": 32,
     "metadata": {},
     "output_type": "execute_result"
    }
   ],
   "source": [
    "pd.pivot_table(dcsheet,index=[\"Publisher Name\"],aggfunc=np.sum)"
   ]
  },
  {
   "cell_type": "markdown",
   "metadata": {},
   "source": [
    "#### Sum of Net Revenue and Total Volume of Bookings"
   ]
  },
  {
   "cell_type": "code",
   "execution_count": 33,
   "metadata": {},
   "outputs": [
    {
     "data": {
      "text/html": [
       "<div>\n",
       "<style scoped>\n",
       "    .dataframe tbody tr th:only-of-type {\n",
       "        vertical-align: middle;\n",
       "    }\n",
       "\n",
       "    .dataframe tbody tr th {\n",
       "        vertical-align: top;\n",
       "    }\n",
       "\n",
       "    .dataframe thead th {\n",
       "        text-align: right;\n",
       "    }\n",
       "</style>\n",
       "<table border=\"1\" class=\"dataframe\">\n",
       "  <thead>\n",
       "    <tr style=\"text-align: right;\">\n",
       "      <th></th>\n",
       "      <th>Net Revenue</th>\n",
       "      <th>Total Volume of Bookings</th>\n",
       "    </tr>\n",
       "    <tr>\n",
       "      <th>Publisher Name</th>\n",
       "      <th></th>\n",
       "      <th></th>\n",
       "    </tr>\n",
       "  </thead>\n",
       "  <tbody>\n",
       "    <tr>\n",
       "      <td>Google - Global</td>\n",
       "      <td>8.086031e+05</td>\n",
       "      <td>797</td>\n",
       "    </tr>\n",
       "    <tr>\n",
       "      <td>Google - US</td>\n",
       "      <td>1.391841e+06</td>\n",
       "      <td>1550</td>\n",
       "    </tr>\n",
       "    <tr>\n",
       "      <td>MSN - Global</td>\n",
       "      <td>1.333639e+05</td>\n",
       "      <td>129</td>\n",
       "    </tr>\n",
       "    <tr>\n",
       "      <td>MSN - US</td>\n",
       "      <td>1.654513e+05</td>\n",
       "      <td>140</td>\n",
       "    </tr>\n",
       "    <tr>\n",
       "      <td>Overture - Global</td>\n",
       "      <td>3.657888e+05</td>\n",
       "      <td>372</td>\n",
       "    </tr>\n",
       "    <tr>\n",
       "      <td>Overture - US</td>\n",
       "      <td>2.054572e+05</td>\n",
       "      <td>289</td>\n",
       "    </tr>\n",
       "    <tr>\n",
       "      <td>Yahoo - US</td>\n",
       "      <td>8.360911e+05</td>\n",
       "      <td>662</td>\n",
       "    </tr>\n",
       "  </tbody>\n",
       "</table>\n",
       "</div>"
      ],
      "text/plain": [
       "                    Net Revenue  Total Volume of Bookings\n",
       "Publisher Name                                           \n",
       "Google - Global    8.086031e+05                       797\n",
       "Google - US        1.391841e+06                      1550\n",
       "MSN - Global       1.333639e+05                       129\n",
       "MSN - US           1.654513e+05                       140\n",
       "Overture - Global  3.657888e+05                       372\n",
       "Overture - US      2.054572e+05                       289\n",
       "Yahoo - US         8.360911e+05                       662"
      ]
     },
     "execution_count": 33,
     "metadata": {},
     "output_type": "execute_result"
    }
   ],
   "source": [
    "pd.pivot_table(dcsheet,index=[\"Publisher Name\"],\n",
    "               values=['Net Revenue', 'Total Volume of Bookings'],aggfunc=np.sum)"
   ]
  },
  {
   "cell_type": "markdown",
   "metadata": {},
   "source": [
    "#### Average Cost Per Click"
   ]
  },
  {
   "cell_type": "code",
   "execution_count": 173,
   "metadata": {},
   "outputs": [
    {
     "data": {
      "text/plain": [
       "Publisher Name\n",
       "Google - Global      1.659191\n",
       "Google - US          1.840833\n",
       "MSN - Global         1.084101\n",
       "MSN - US             1.489497\n",
       "Overture - Global    1.055779\n",
       "Overture - US        1.189847\n",
       "Yahoo - US           1.013155\n",
       "dtype: float64"
      ]
     },
     "execution_count": 173,
     "metadata": {},
     "output_type": "execute_result"
    }
   ],
   "source": [
    "dcsheet.groupby(by=['Publisher Name']).pipe(lambda group: group['Click Charges'].sum()/group['Clicks'].\n",
    "                                            sum())"
   ]
  },
  {
   "cell_type": "markdown",
   "metadata": {},
   "source": [
    "#### Average Revenue Per Booking"
   ]
  },
  {
   "cell_type": "code",
   "execution_count": 174,
   "metadata": {},
   "outputs": [
    {
     "data": {
      "text/plain": [
       "Publisher Name\n",
       "Google - Global      1166.310916\n",
       "Google - US          1126.117290\n",
       "MSN - Global         1128.094961\n",
       "MSN - US             1296.784286\n",
       "Overture - Global    1156.141667\n",
       "Overture - US        1202.191176\n",
       "Yahoo - US           1332.762764\n",
       "dtype: float64"
      ]
     },
     "execution_count": 174,
     "metadata": {},
     "output_type": "execute_result"
    }
   ],
   "source": [
    "dcsheet.groupby(by=['Publisher Name']).pipe(lambda group: group['Amount'].sum()/group['Total Volume of Bookings'].\n",
    "                                            sum())"
   ]
  },
  {
   "cell_type": "markdown",
   "metadata": {},
   "source": [
    "#### Click Charges"
   ]
  },
  {
   "cell_type": "code",
   "execution_count": 36,
   "metadata": {},
   "outputs": [
    {
     "data": {
      "text/html": [
       "<div>\n",
       "<style scoped>\n",
       "    .dataframe tbody tr th:only-of-type {\n",
       "        vertical-align: middle;\n",
       "    }\n",
       "\n",
       "    .dataframe tbody tr th {\n",
       "        vertical-align: top;\n",
       "    }\n",
       "\n",
       "    .dataframe thead th {\n",
       "        text-align: right;\n",
       "    }\n",
       "</style>\n",
       "<table border=\"1\" class=\"dataframe\">\n",
       "  <thead>\n",
       "    <tr style=\"text-align: right;\">\n",
       "      <th></th>\n",
       "      <th>Click Charges</th>\n",
       "    </tr>\n",
       "    <tr>\n",
       "      <th>Publisher Name</th>\n",
       "      <th></th>\n",
       "    </tr>\n",
       "  </thead>\n",
       "  <tbody>\n",
       "    <tr>\n",
       "      <td>Google - Global</td>\n",
       "      <td>120946.711971</td>\n",
       "    </tr>\n",
       "    <tr>\n",
       "      <td>Google - US</td>\n",
       "      <td>353640.598920</td>\n",
       "    </tr>\n",
       "    <tr>\n",
       "      <td>MSN - Global</td>\n",
       "      <td>12160.362438</td>\n",
       "    </tr>\n",
       "    <tr>\n",
       "      <td>MSN - US</td>\n",
       "      <td>16098.487407</td>\n",
       "    </tr>\n",
       "    <tr>\n",
       "      <td>Overture - Global</td>\n",
       "      <td>64295.862144</td>\n",
       "    </tr>\n",
       "    <tr>\n",
       "      <td>Overture - US</td>\n",
       "      <td>141976.074456</td>\n",
       "    </tr>\n",
       "    <tr>\n",
       "      <td>Yahoo - US</td>\n",
       "      <td>46197.824620</td>\n",
       "    </tr>\n",
       "  </tbody>\n",
       "</table>\n",
       "</div>"
      ],
      "text/plain": [
       "                   Click Charges\n",
       "Publisher Name                  \n",
       "Google - Global    120946.711971\n",
       "Google - US        353640.598920\n",
       "MSN - Global        12160.362438\n",
       "MSN - US            16098.487407\n",
       "Overture - Global   64295.862144\n",
       "Overture - US      141976.074456\n",
       "Yahoo - US          46197.824620"
      ]
     },
     "execution_count": 36,
     "metadata": {},
     "output_type": "execute_result"
    }
   ],
   "source": [
    "pd.pivot_table(dcsheet,index=[\"Publisher Name\"],values=['Click Charges'],aggfunc=np.sum)"
   ]
  },
  {
   "cell_type": "markdown",
   "metadata": {},
   "source": [
    "#### Probability of Booking"
   ]
  },
  {
   "cell_type": "code",
   "execution_count": 223,
   "metadata": {},
   "outputs": [
    {
     "data": {
      "text/plain": [
       "Publisher Name\n",
       "Google - Global      0.000389\n",
       "Google - US          0.000626\n",
       "MSN - Global         0.000831\n",
       "MSN - US             0.000604\n",
       "Overture - Global    0.000084\n",
       "Overture - US        0.000025\n",
       "Yahoo - US           0.002937\n",
       "dtype: float64"
      ]
     },
     "execution_count": 223,
     "metadata": {},
     "output_type": "execute_result"
    }
   ],
   "source": [
    "#dcsheet['Probability of Booking'] = (dcsheet['Engine Click Thru %']*dcsheet['Trans. Conv. %'])/ 10000\n",
    "dcsheet.groupby(by=['Publisher Name']).pipe(lambda group: group['Engine Click Thru %'].mean()*group['Trans. Conv. %'].\n",
    "                                            mean())/10000"
   ]
  },
  {
   "cell_type": "markdown",
   "metadata": {},
   "source": [
    "#### Cost/Booking"
   ]
  },
  {
   "cell_type": "code",
   "execution_count": 146,
   "metadata": {},
   "outputs": [
    {
     "data": {
      "text/plain": [
       "Publisher Name\n",
       "Google - Global      151.752462\n",
       "Google - US          228.155225\n",
       "MSN - Global          94.266375\n",
       "MSN - US             114.989196\n",
       "Overture - Global    172.838339\n",
       "Overture - US        491.266694\n",
       "Yahoo - US            69.785234\n",
       "dtype: float64"
      ]
     },
     "execution_count": 146,
     "metadata": {},
     "output_type": "execute_result"
    }
   ],
   "source": [
    "dcsheet.groupby(by=['Publisher Name']).pipe(lambda group: group['Click Charges'].sum()/group['Total Volume of Bookings'].\n",
    "                                            sum())\n"
   ]
  },
  {
   "cell_type": "markdown",
   "metadata": {},
   "source": [
    "### ROA"
   ]
  },
  {
   "cell_type": "code",
   "execution_count": 165,
   "metadata": {},
   "outputs": [
    {
     "data": {
      "text/plain": [
       "Publisher Name\n",
       "Google - Global       668.561447\n",
       "Google - US           393.575060\n",
       "MSN - Global         1096.709808\n",
       "MSN - US             1027.744461\n",
       "Overture - Global     568.915052\n",
       "Overture - US         144.712534\n",
       "Yahoo - US           1809.806267\n",
       "dtype: float64"
      ]
     },
     "execution_count": 165,
     "metadata": {},
     "output_type": "execute_result"
    }
   ],
   "source": [
    "dcsheet.groupby(by=['Publisher Name']).pipe(lambda group: group['Net Revenue'].sum()/group['Total Cost'].\n",
    "                                            sum())*100"
   ]
  },
  {
   "cell_type": "code",
   "execution_count": 232,
   "metadata": {},
   "outputs": [
    {
     "data": {
      "text/plain": [
       "Publisher Name\n",
       "Google - Global       668.561447\n",
       "Google - US           393.575060\n",
       "MSN - Global         1096.709808\n",
       "MSN - US             1027.744461\n",
       "Overture - Global     568.915052\n",
       "Overture - US         144.712534\n",
       "Yahoo - US           1809.806267\n",
       "dtype: float64"
      ]
     },
     "execution_count": 232,
     "metadata": {},
     "output_type": "execute_result"
    }
   ],
   "source": [
    "dcsheet.groupby(by=['Publisher Name']).apply(lambda group: group['Net Revenue'].sum()/group['Total Cost'].\n",
    "                                            sum())*100"
   ]
  },
  {
   "cell_type": "markdown",
   "metadata": {},
   "source": [
    "## 2) Based on the one-week summary data provided for Kayak in “kayak” sheet of the excel file, please calculate the following metrics and clearly show your calculation process.\n",
    "- a. Kayak Trans. Conv. Rate\n",
    "- b. Average Publisher TCR\n",
    "- c. Kayak CPC\n",
    "- d. Average Publisher CPC\n",
    "\n",
    "#### Compare the calculations with what you have derived from the Bonus question #1, what recommendation you would like to make about marketing in Kayak relative to other publishers?"
   ]
  },
  {
   "cell_type": "code",
   "execution_count": 41,
   "metadata": {},
   "outputs": [],
   "source": [
    "dkay = pd.read_excel(dcdata, 'Kayak',header=7)"
   ]
  },
  {
   "cell_type": "code",
   "execution_count": 42,
   "metadata": {},
   "outputs": [
    {
     "data": {
      "text/html": [
       "<div>\n",
       "<style scoped>\n",
       "    .dataframe tbody tr th:only-of-type {\n",
       "        vertical-align: middle;\n",
       "    }\n",
       "\n",
       "    .dataframe tbody tr th {\n",
       "        vertical-align: top;\n",
       "    }\n",
       "\n",
       "    .dataframe thead th {\n",
       "        text-align: right;\n",
       "    }\n",
       "</style>\n",
       "<table border=\"1\" class=\"dataframe\">\n",
       "  <thead>\n",
       "    <tr style=\"text-align: right;\">\n",
       "      <th></th>\n",
       "      <th>Unnamed: 0</th>\n",
       "      <th>Search Engine</th>\n",
       "      <th>Clicks</th>\n",
       "      <th>Media Cost</th>\n",
       "      <th>Total Bookings</th>\n",
       "      <th>Avg Ticket</th>\n",
       "      <th>Total Revenue</th>\n",
       "      <th>Net Revenue</th>\n",
       "    </tr>\n",
       "  </thead>\n",
       "  <tbody>\n",
       "    <tr>\n",
       "      <td>0</td>\n",
       "      <td>NaN</td>\n",
       "      <td>Kayak</td>\n",
       "      <td>2839.0</td>\n",
       "      <td>3567.1335</td>\n",
       "      <td>208.0</td>\n",
       "      <td>1123.528846</td>\n",
       "      <td>233694.0</td>\n",
       "      <td>230126.8665</td>\n",
       "    </tr>\n",
       "  </tbody>\n",
       "</table>\n",
       "</div>"
      ],
      "text/plain": [
       "   Unnamed: 0 Search Engine  Clicks  Media Cost  Total Bookings   Avg Ticket  \\\n",
       "0         NaN         Kayak  2839.0   3567.1335           208.0  1123.528846   \n",
       "\n",
       "   Total Revenue  Net Revenue  \n",
       "0       233694.0  230126.8665  "
      ]
     },
     "execution_count": 42,
     "metadata": {},
     "output_type": "execute_result"
    }
   ],
   "source": [
    "a=(dkay[:1])\n",
    "a"
   ]
  },
  {
   "cell_type": "markdown",
   "metadata": {},
   "source": [
    "#### a. Kayak Trans. Conv. Rate"
   ]
  },
  {
   "cell_type": "code",
   "execution_count": 43,
   "metadata": {},
   "outputs": [],
   "source": [
    "dkay['Kayak Trans. Conv. Rate'] = (dkay['Total Bookings']/dkay['Clicks'])*100"
   ]
  },
  {
   "cell_type": "markdown",
   "metadata": {},
   "source": [
    "#### b. Average Publisher TCR"
   ]
  },
  {
   "cell_type": "code",
   "execution_count": 44,
   "metadata": {},
   "outputs": [
    {
     "data": {
      "text/plain": [
       "0.5692550746242099"
      ]
     },
     "execution_count": 44,
     "metadata": {},
     "output_type": "execute_result"
    }
   ],
   "source": [
    "ATCR= dcsheet[\"Trans. Conv. %\"].mean()\n",
    "ATCR"
   ]
  },
  {
   "cell_type": "markdown",
   "metadata": {},
   "source": [
    "#### c. Kayak CPC"
   ]
  },
  {
   "cell_type": "code",
   "execution_count": 45,
   "metadata": {},
   "outputs": [],
   "source": [
    "dkay['Kayak CPC'] = (dkay['Media Cost']/dkay['Clicks'])"
   ]
  },
  {
   "cell_type": "markdown",
   "metadata": {},
   "source": [
    "#### d. Average Publisher CPC"
   ]
  },
  {
   "cell_type": "code",
   "execution_count": 46,
   "metadata": {},
   "outputs": [
    {
     "data": {
      "text/plain": [
       "1.8902395796868083"
      ]
     },
     "execution_count": 46,
     "metadata": {},
     "output_type": "execute_result"
    }
   ],
   "source": [
    "ACPC = dcsheet['Avg. Cost per Click'].mean()\n",
    "ACPC"
   ]
  },
  {
   "cell_type": "code",
   "execution_count": 47,
   "metadata": {},
   "outputs": [
    {
     "data": {
      "text/html": [
       "<div>\n",
       "<style scoped>\n",
       "    .dataframe tbody tr th:only-of-type {\n",
       "        vertical-align: middle;\n",
       "    }\n",
       "\n",
       "    .dataframe tbody tr th {\n",
       "        vertical-align: top;\n",
       "    }\n",
       "\n",
       "    .dataframe thead th {\n",
       "        text-align: right;\n",
       "    }\n",
       "</style>\n",
       "<table border=\"1\" class=\"dataframe\">\n",
       "  <thead>\n",
       "    <tr style=\"text-align: right;\">\n",
       "      <th></th>\n",
       "      <th>Unnamed: 0</th>\n",
       "      <th>Search Engine</th>\n",
       "      <th>Clicks</th>\n",
       "      <th>Media Cost</th>\n",
       "      <th>Total Bookings</th>\n",
       "      <th>Avg Ticket</th>\n",
       "      <th>Total Revenue</th>\n",
       "      <th>Net Revenue</th>\n",
       "      <th>Kayak Trans. Conv. Rate</th>\n",
       "      <th>Kayak CPC</th>\n",
       "    </tr>\n",
       "  </thead>\n",
       "  <tbody>\n",
       "    <tr>\n",
       "      <td>0</td>\n",
       "      <td>NaN</td>\n",
       "      <td>Kayak</td>\n",
       "      <td>2839.0</td>\n",
       "      <td>3567.1335</td>\n",
       "      <td>208.0</td>\n",
       "      <td>1123.528846</td>\n",
       "      <td>233694.0</td>\n",
       "      <td>230126.8665</td>\n",
       "      <td>7.326523</td>\n",
       "      <td>1.256475</td>\n",
       "    </tr>\n",
       "    <tr>\n",
       "      <td>1</td>\n",
       "      <td>NaN</td>\n",
       "      <td>NaN</td>\n",
       "      <td>NaN</td>\n",
       "      <td>NaN</td>\n",
       "      <td>NaN</td>\n",
       "      <td>NaN</td>\n",
       "      <td>NaN</td>\n",
       "      <td>NaN</td>\n",
       "      <td>NaN</td>\n",
       "      <td>NaN</td>\n",
       "    </tr>\n",
       "    <tr>\n",
       "      <td>2</td>\n",
       "      <td>NaN</td>\n",
       "      <td>Time Period is One Week (6/04/07 - 6/10/07)</td>\n",
       "      <td>NaN</td>\n",
       "      <td>NaN</td>\n",
       "      <td>NaN</td>\n",
       "      <td>NaN</td>\n",
       "      <td>NaN</td>\n",
       "      <td>NaN</td>\n",
       "      <td>NaN</td>\n",
       "      <td>NaN</td>\n",
       "    </tr>\n",
       "  </tbody>\n",
       "</table>\n",
       "</div>"
      ],
      "text/plain": [
       "   Unnamed: 0                                Search Engine  Clicks  \\\n",
       "0         NaN                                        Kayak  2839.0   \n",
       "1         NaN                                          NaN     NaN   \n",
       "2         NaN  Time Period is One Week (6/04/07 - 6/10/07)     NaN   \n",
       "\n",
       "   Media Cost  Total Bookings   Avg Ticket  Total Revenue  Net Revenue  \\\n",
       "0   3567.1335           208.0  1123.528846       233694.0  230126.8665   \n",
       "1         NaN             NaN          NaN            NaN          NaN   \n",
       "2         NaN             NaN          NaN            NaN          NaN   \n",
       "\n",
       "   Kayak Trans. Conv. Rate  Kayak CPC  \n",
       "0                 7.326523   1.256475  \n",
       "1                      NaN        NaN  \n",
       "2                      NaN        NaN  "
      ]
     },
     "execution_count": 47,
     "metadata": {},
     "output_type": "execute_result"
    }
   ],
   "source": [
    "dkay.head()"
   ]
  },
  {
   "cell_type": "markdown",
   "metadata": {},
   "source": [
    "#### Summarized Calculations"
   ]
  },
  {
   "cell_type": "code",
   "execution_count": 48,
   "metadata": {},
   "outputs": [
    {
     "data": {
      "text/html": [
       "<div>\n",
       "<style scoped>\n",
       "    .dataframe tbody tr th:only-of-type {\n",
       "        vertical-align: middle;\n",
       "    }\n",
       "\n",
       "    .dataframe tbody tr th {\n",
       "        vertical-align: top;\n",
       "    }\n",
       "\n",
       "    .dataframe thead th {\n",
       "        text-align: right;\n",
       "    }\n",
       "</style>\n",
       "<table border=\"1\" class=\"dataframe\">\n",
       "  <thead>\n",
       "    <tr style=\"text-align: right;\">\n",
       "      <th></th>\n",
       "      <th>Kayak Trans. Conv. Rate</th>\n",
       "      <th>Kayak CPC</th>\n",
       "    </tr>\n",
       "  </thead>\n",
       "  <tbody>\n",
       "    <tr>\n",
       "      <td>0</td>\n",
       "      <td>7.326523</td>\n",
       "      <td>1.256475</td>\n",
       "    </tr>\n",
       "  </tbody>\n",
       "</table>\n",
       "</div>"
      ],
      "text/plain": [
       "   Kayak Trans. Conv. Rate  Kayak CPC\n",
       "0                 7.326523   1.256475"
      ]
     },
     "execution_count": 48,
     "metadata": {},
     "output_type": "execute_result"
    }
   ],
   "source": [
    "dkay[:1][['Kayak Trans. Conv. Rate','Kayak CPC']]"
   ]
  },
  {
   "cell_type": "code",
   "execution_count": 49,
   "metadata": {},
   "outputs": [
    {
     "name": "stdout",
     "output_type": "stream",
     "text": [
      "Average Publisher TCR: 0.5692550746242099\n",
      "Average Publisher CPC: 1.8902395796868083\n"
     ]
    }
   ],
   "source": [
    "print('Average Publisher TCR:',ATCR) \n",
    "print('Average Publisher CPC:',ACPC) \n"
   ]
  }
 ],
 "metadata": {
  "kernelspec": {
   "display_name": "Python 3",
   "language": "python",
   "name": "python3"
  },
  "language_info": {
   "codemirror_mode": {
    "name": "ipython",
    "version": 3
   },
   "file_extension": ".py",
   "mimetype": "text/x-python",
   "name": "python",
   "nbconvert_exporter": "python",
   "pygments_lexer": "ipython3",
   "version": "3.7.4"
  }
 },
 "nbformat": 4,
 "nbformat_minor": 2
}
